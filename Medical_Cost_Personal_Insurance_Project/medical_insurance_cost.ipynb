{
 "cells": [
  {
   "cell_type": "markdown",
   "id": "70c8a1b7",
   "metadata": {},
   "source": [
    "### Problem Statement"
   ]
  },
  {
   "cell_type": "markdown",
   "id": "d680784f",
   "metadata": {},
   "source": [
    "Health insurance is a type of insurance that covers medical expenses that arise due to an illness.\n",
    "Based on certain input features such as age , bmi,no of dependents ,smoker ,region appropriate insurance costs needs to be predicted."
   ]
  },
  {
   "cell_type": "code",
   "execution_count": 52,
   "id": "b91556f8",
   "metadata": {},
   "outputs": [],
   "source": [
    "#import packages for analysis\n",
    "import pandas as pd\n",
    "import numpy as np\n",
    "import seaborn as sns\n",
    "import matplotlib.pyplot as plt\n",
    "import warnings\n",
    "warnings.filterwarnings('ignore')"
   ]
  },
  {
   "cell_type": "code",
   "execution_count": 53,
   "id": "821ea772",
   "metadata": {},
   "outputs": [],
   "source": [
    "from sklearn.preprocessing import StandardScaler\n",
    "from sklearn.model_selection import train_test_split\n",
    "from sklearn.linear_model import LinearRegression\n",
    "from sklearn.metrics import r2_score, mean_squared_error\n",
    "from sklearn.ensemble import RandomForestRegressor\n",
    "from statsmodels.stats.outliers_influence import variance_inflation_factor"
   ]
  },
  {
   "cell_type": "code",
   "execution_count": 54,
   "id": "9ceb328d",
   "metadata": {},
   "outputs": [
    {
     "data": {
      "text/html": [
       "<div>\n",
       "<style scoped>\n",
       "    .dataframe tbody tr th:only-of-type {\n",
       "        vertical-align: middle;\n",
       "    }\n",
       "\n",
       "    .dataframe tbody tr th {\n",
       "        vertical-align: top;\n",
       "    }\n",
       "\n",
       "    .dataframe thead th {\n",
       "        text-align: right;\n",
       "    }\n",
       "</style>\n",
       "<table border=\"1\" class=\"dataframe\">\n",
       "  <thead>\n",
       "    <tr style=\"text-align: right;\">\n",
       "      <th></th>\n",
       "      <th>age</th>\n",
       "      <th>sex</th>\n",
       "      <th>bmi</th>\n",
       "      <th>children</th>\n",
       "      <th>smoker</th>\n",
       "      <th>region</th>\n",
       "      <th>charges</th>\n",
       "    </tr>\n",
       "  </thead>\n",
       "  <tbody>\n",
       "    <tr>\n",
       "      <th>0</th>\n",
       "      <td>19</td>\n",
       "      <td>female</td>\n",
       "      <td>27.900</td>\n",
       "      <td>0</td>\n",
       "      <td>yes</td>\n",
       "      <td>southwest</td>\n",
       "      <td>16884.92400</td>\n",
       "    </tr>\n",
       "    <tr>\n",
       "      <th>1</th>\n",
       "      <td>18</td>\n",
       "      <td>male</td>\n",
       "      <td>33.770</td>\n",
       "      <td>1</td>\n",
       "      <td>no</td>\n",
       "      <td>southeast</td>\n",
       "      <td>1725.55230</td>\n",
       "    </tr>\n",
       "    <tr>\n",
       "      <th>2</th>\n",
       "      <td>28</td>\n",
       "      <td>male</td>\n",
       "      <td>33.000</td>\n",
       "      <td>3</td>\n",
       "      <td>no</td>\n",
       "      <td>southeast</td>\n",
       "      <td>4449.46200</td>\n",
       "    </tr>\n",
       "    <tr>\n",
       "      <th>3</th>\n",
       "      <td>33</td>\n",
       "      <td>male</td>\n",
       "      <td>22.705</td>\n",
       "      <td>0</td>\n",
       "      <td>no</td>\n",
       "      <td>northwest</td>\n",
       "      <td>21984.47061</td>\n",
       "    </tr>\n",
       "    <tr>\n",
       "      <th>4</th>\n",
       "      <td>32</td>\n",
       "      <td>male</td>\n",
       "      <td>28.880</td>\n",
       "      <td>0</td>\n",
       "      <td>no</td>\n",
       "      <td>northwest</td>\n",
       "      <td>3866.85520</td>\n",
       "    </tr>\n",
       "    <tr>\n",
       "      <th>...</th>\n",
       "      <td>...</td>\n",
       "      <td>...</td>\n",
       "      <td>...</td>\n",
       "      <td>...</td>\n",
       "      <td>...</td>\n",
       "      <td>...</td>\n",
       "      <td>...</td>\n",
       "    </tr>\n",
       "    <tr>\n",
       "      <th>1333</th>\n",
       "      <td>50</td>\n",
       "      <td>male</td>\n",
       "      <td>30.970</td>\n",
       "      <td>3</td>\n",
       "      <td>no</td>\n",
       "      <td>northwest</td>\n",
       "      <td>10600.54830</td>\n",
       "    </tr>\n",
       "    <tr>\n",
       "      <th>1334</th>\n",
       "      <td>18</td>\n",
       "      <td>female</td>\n",
       "      <td>31.920</td>\n",
       "      <td>0</td>\n",
       "      <td>no</td>\n",
       "      <td>northeast</td>\n",
       "      <td>2205.98080</td>\n",
       "    </tr>\n",
       "    <tr>\n",
       "      <th>1335</th>\n",
       "      <td>18</td>\n",
       "      <td>female</td>\n",
       "      <td>36.850</td>\n",
       "      <td>0</td>\n",
       "      <td>no</td>\n",
       "      <td>southeast</td>\n",
       "      <td>1629.83350</td>\n",
       "    </tr>\n",
       "    <tr>\n",
       "      <th>1336</th>\n",
       "      <td>21</td>\n",
       "      <td>female</td>\n",
       "      <td>25.800</td>\n",
       "      <td>0</td>\n",
       "      <td>no</td>\n",
       "      <td>southwest</td>\n",
       "      <td>2007.94500</td>\n",
       "    </tr>\n",
       "    <tr>\n",
       "      <th>1337</th>\n",
       "      <td>61</td>\n",
       "      <td>female</td>\n",
       "      <td>29.070</td>\n",
       "      <td>0</td>\n",
       "      <td>yes</td>\n",
       "      <td>northwest</td>\n",
       "      <td>29141.36030</td>\n",
       "    </tr>\n",
       "  </tbody>\n",
       "</table>\n",
       "<p>1338 rows × 7 columns</p>\n",
       "</div>"
      ],
      "text/plain": [
       "      age     sex     bmi  children smoker     region      charges\n",
       "0      19  female  27.900         0    yes  southwest  16884.92400\n",
       "1      18    male  33.770         1     no  southeast   1725.55230\n",
       "2      28    male  33.000         3     no  southeast   4449.46200\n",
       "3      33    male  22.705         0     no  northwest  21984.47061\n",
       "4      32    male  28.880         0     no  northwest   3866.85520\n",
       "...   ...     ...     ...       ...    ...        ...          ...\n",
       "1333   50    male  30.970         3     no  northwest  10600.54830\n",
       "1334   18  female  31.920         0     no  northeast   2205.98080\n",
       "1335   18  female  36.850         0     no  southeast   1629.83350\n",
       "1336   21  female  25.800         0     no  southwest   2007.94500\n",
       "1337   61  female  29.070         0    yes  northwest  29141.36030\n",
       "\n",
       "[1338 rows x 7 columns]"
      ]
     },
     "execution_count": 54,
     "metadata": {},
     "output_type": "execute_result"
    }
   ],
   "source": [
    "#import dataset using Github link\n",
    "df=pd.read_csv('https://raw.githubusercontent.com/dsrscientist/dataset4/main/medical_cost_insurance.csv')\n",
    "df"
   ]
  },
  {
   "cell_type": "code",
   "execution_count": 55,
   "id": "c35e087b",
   "metadata": {},
   "outputs": [
    {
     "data": {
      "text/html": [
       "<div>\n",
       "<style scoped>\n",
       "    .dataframe tbody tr th:only-of-type {\n",
       "        vertical-align: middle;\n",
       "    }\n",
       "\n",
       "    .dataframe tbody tr th {\n",
       "        vertical-align: top;\n",
       "    }\n",
       "\n",
       "    .dataframe thead th {\n",
       "        text-align: right;\n",
       "    }\n",
       "</style>\n",
       "<table border=\"1\" class=\"dataframe\">\n",
       "  <thead>\n",
       "    <tr style=\"text-align: right;\">\n",
       "      <th></th>\n",
       "      <th>age</th>\n",
       "      <th>sex</th>\n",
       "      <th>bmi</th>\n",
       "      <th>children</th>\n",
       "      <th>smoker</th>\n",
       "      <th>region</th>\n",
       "      <th>charges</th>\n",
       "    </tr>\n",
       "  </thead>\n",
       "  <tbody>\n",
       "    <tr>\n",
       "      <th>0</th>\n",
       "      <td>19</td>\n",
       "      <td>female</td>\n",
       "      <td>27.900</td>\n",
       "      <td>0</td>\n",
       "      <td>yes</td>\n",
       "      <td>southwest</td>\n",
       "      <td>16884.92400</td>\n",
       "    </tr>\n",
       "    <tr>\n",
       "      <th>1</th>\n",
       "      <td>18</td>\n",
       "      <td>male</td>\n",
       "      <td>33.770</td>\n",
       "      <td>1</td>\n",
       "      <td>no</td>\n",
       "      <td>southeast</td>\n",
       "      <td>1725.55230</td>\n",
       "    </tr>\n",
       "    <tr>\n",
       "      <th>2</th>\n",
       "      <td>28</td>\n",
       "      <td>male</td>\n",
       "      <td>33.000</td>\n",
       "      <td>3</td>\n",
       "      <td>no</td>\n",
       "      <td>southeast</td>\n",
       "      <td>4449.46200</td>\n",
       "    </tr>\n",
       "    <tr>\n",
       "      <th>3</th>\n",
       "      <td>33</td>\n",
       "      <td>male</td>\n",
       "      <td>22.705</td>\n",
       "      <td>0</td>\n",
       "      <td>no</td>\n",
       "      <td>northwest</td>\n",
       "      <td>21984.47061</td>\n",
       "    </tr>\n",
       "    <tr>\n",
       "      <th>4</th>\n",
       "      <td>32</td>\n",
       "      <td>male</td>\n",
       "      <td>28.880</td>\n",
       "      <td>0</td>\n",
       "      <td>no</td>\n",
       "      <td>northwest</td>\n",
       "      <td>3866.85520</td>\n",
       "    </tr>\n",
       "    <tr>\n",
       "      <th>5</th>\n",
       "      <td>31</td>\n",
       "      <td>female</td>\n",
       "      <td>25.740</td>\n",
       "      <td>0</td>\n",
       "      <td>no</td>\n",
       "      <td>southeast</td>\n",
       "      <td>3756.62160</td>\n",
       "    </tr>\n",
       "    <tr>\n",
       "      <th>6</th>\n",
       "      <td>46</td>\n",
       "      <td>female</td>\n",
       "      <td>33.440</td>\n",
       "      <td>1</td>\n",
       "      <td>no</td>\n",
       "      <td>southeast</td>\n",
       "      <td>8240.58960</td>\n",
       "    </tr>\n",
       "    <tr>\n",
       "      <th>7</th>\n",
       "      <td>37</td>\n",
       "      <td>female</td>\n",
       "      <td>27.740</td>\n",
       "      <td>3</td>\n",
       "      <td>no</td>\n",
       "      <td>northwest</td>\n",
       "      <td>7281.50560</td>\n",
       "    </tr>\n",
       "    <tr>\n",
       "      <th>8</th>\n",
       "      <td>37</td>\n",
       "      <td>male</td>\n",
       "      <td>29.830</td>\n",
       "      <td>2</td>\n",
       "      <td>no</td>\n",
       "      <td>northeast</td>\n",
       "      <td>6406.41070</td>\n",
       "    </tr>\n",
       "    <tr>\n",
       "      <th>9</th>\n",
       "      <td>60</td>\n",
       "      <td>female</td>\n",
       "      <td>25.840</td>\n",
       "      <td>0</td>\n",
       "      <td>no</td>\n",
       "      <td>northwest</td>\n",
       "      <td>28923.13692</td>\n",
       "    </tr>\n",
       "    <tr>\n",
       "      <th>10</th>\n",
       "      <td>25</td>\n",
       "      <td>male</td>\n",
       "      <td>26.220</td>\n",
       "      <td>0</td>\n",
       "      <td>no</td>\n",
       "      <td>northeast</td>\n",
       "      <td>2721.32080</td>\n",
       "    </tr>\n",
       "    <tr>\n",
       "      <th>11</th>\n",
       "      <td>62</td>\n",
       "      <td>female</td>\n",
       "      <td>26.290</td>\n",
       "      <td>0</td>\n",
       "      <td>yes</td>\n",
       "      <td>southeast</td>\n",
       "      <td>27808.72510</td>\n",
       "    </tr>\n",
       "    <tr>\n",
       "      <th>12</th>\n",
       "      <td>23</td>\n",
       "      <td>male</td>\n",
       "      <td>34.400</td>\n",
       "      <td>0</td>\n",
       "      <td>no</td>\n",
       "      <td>southwest</td>\n",
       "      <td>1826.84300</td>\n",
       "    </tr>\n",
       "    <tr>\n",
       "      <th>13</th>\n",
       "      <td>56</td>\n",
       "      <td>female</td>\n",
       "      <td>39.820</td>\n",
       "      <td>0</td>\n",
       "      <td>no</td>\n",
       "      <td>southeast</td>\n",
       "      <td>11090.71780</td>\n",
       "    </tr>\n",
       "    <tr>\n",
       "      <th>14</th>\n",
       "      <td>27</td>\n",
       "      <td>male</td>\n",
       "      <td>42.130</td>\n",
       "      <td>0</td>\n",
       "      <td>yes</td>\n",
       "      <td>southeast</td>\n",
       "      <td>39611.75770</td>\n",
       "    </tr>\n",
       "    <tr>\n",
       "      <th>15</th>\n",
       "      <td>19</td>\n",
       "      <td>male</td>\n",
       "      <td>24.600</td>\n",
       "      <td>1</td>\n",
       "      <td>no</td>\n",
       "      <td>southwest</td>\n",
       "      <td>1837.23700</td>\n",
       "    </tr>\n",
       "  </tbody>\n",
       "</table>\n",
       "</div>"
      ],
      "text/plain": [
       "    age     sex     bmi  children smoker     region      charges\n",
       "0    19  female  27.900         0    yes  southwest  16884.92400\n",
       "1    18    male  33.770         1     no  southeast   1725.55230\n",
       "2    28    male  33.000         3     no  southeast   4449.46200\n",
       "3    33    male  22.705         0     no  northwest  21984.47061\n",
       "4    32    male  28.880         0     no  northwest   3866.85520\n",
       "5    31  female  25.740         0     no  southeast   3756.62160\n",
       "6    46  female  33.440         1     no  southeast   8240.58960\n",
       "7    37  female  27.740         3     no  northwest   7281.50560\n",
       "8    37    male  29.830         2     no  northeast   6406.41070\n",
       "9    60  female  25.840         0     no  northwest  28923.13692\n",
       "10   25    male  26.220         0     no  northeast   2721.32080\n",
       "11   62  female  26.290         0    yes  southeast  27808.72510\n",
       "12   23    male  34.400         0     no  southwest   1826.84300\n",
       "13   56  female  39.820         0     no  southeast  11090.71780\n",
       "14   27    male  42.130         0    yes  southeast  39611.75770\n",
       "15   19    male  24.600         1     no  southwest   1837.23700"
      ]
     },
     "execution_count": 55,
     "metadata": {},
     "output_type": "execute_result"
    }
   ],
   "source": [
    "#view top few rows\n",
    "df.head(16)"
   ]
  },
  {
   "cell_type": "code",
   "execution_count": 56,
   "id": "01407996",
   "metadata": {},
   "outputs": [
    {
     "data": {
      "text/plain": [
       "(1338, 7)"
      ]
     },
     "execution_count": 56,
     "metadata": {},
     "output_type": "execute_result"
    }
   ],
   "source": [
    "#check number of rows and columns present in dataset\n",
    "df.shape"
   ]
  },
  {
   "cell_type": "code",
   "execution_count": 57,
   "id": "bb806ecf",
   "metadata": {},
   "outputs": [
    {
     "data": {
      "text/plain": [
       "Index(['age', 'sex', 'bmi', 'children', 'smoker', 'region', 'charges'], dtype='object')"
      ]
     },
     "execution_count": 57,
     "metadata": {},
     "output_type": "execute_result"
    }
   ],
   "source": [
    "#check number of columns present and their data type.\n",
    "df.columns"
   ]
  },
  {
   "cell_type": "code",
   "execution_count": 58,
   "id": "719d7f7d",
   "metadata": {},
   "outputs": [
    {
     "name": "stdout",
     "output_type": "stream",
     "text": [
      "<class 'pandas.core.frame.DataFrame'>\n",
      "RangeIndex: 1338 entries, 0 to 1337\n",
      "Data columns (total 7 columns):\n",
      " #   Column    Non-Null Count  Dtype  \n",
      "---  ------    --------------  -----  \n",
      " 0   age       1338 non-null   int64  \n",
      " 1   sex       1338 non-null   object \n",
      " 2   bmi       1338 non-null   float64\n",
      " 3   children  1338 non-null   int64  \n",
      " 4   smoker    1338 non-null   object \n",
      " 5   region    1338 non-null   object \n",
      " 6   charges   1338 non-null   float64\n",
      "dtypes: float64(2), int64(2), object(3)\n",
      "memory usage: 73.3+ KB\n"
     ]
    }
   ],
   "source": [
    "#check information of each column\n",
    "df.info()"
   ]
  },
  {
   "cell_type": "code",
   "execution_count": 59,
   "id": "58b10132",
   "metadata": {},
   "outputs": [
    {
     "data": {
      "text/html": [
       "<div>\n",
       "<style scoped>\n",
       "    .dataframe tbody tr th:only-of-type {\n",
       "        vertical-align: middle;\n",
       "    }\n",
       "\n",
       "    .dataframe tbody tr th {\n",
       "        vertical-align: top;\n",
       "    }\n",
       "\n",
       "    .dataframe thead th {\n",
       "        text-align: right;\n",
       "    }\n",
       "</style>\n",
       "<table border=\"1\" class=\"dataframe\">\n",
       "  <thead>\n",
       "    <tr style=\"text-align: right;\">\n",
       "      <th></th>\n",
       "      <th>count</th>\n",
       "      <th>mean</th>\n",
       "      <th>std</th>\n",
       "      <th>min</th>\n",
       "      <th>25%</th>\n",
       "      <th>50%</th>\n",
       "      <th>75%</th>\n",
       "      <th>max</th>\n",
       "    </tr>\n",
       "  </thead>\n",
       "  <tbody>\n",
       "    <tr>\n",
       "      <th>age</th>\n",
       "      <td>1338.0</td>\n",
       "      <td>39.207025</td>\n",
       "      <td>14.049960</td>\n",
       "      <td>18.0000</td>\n",
       "      <td>27.00000</td>\n",
       "      <td>39.000</td>\n",
       "      <td>51.000000</td>\n",
       "      <td>64.00000</td>\n",
       "    </tr>\n",
       "    <tr>\n",
       "      <th>bmi</th>\n",
       "      <td>1338.0</td>\n",
       "      <td>30.663397</td>\n",
       "      <td>6.098187</td>\n",
       "      <td>15.9600</td>\n",
       "      <td>26.29625</td>\n",
       "      <td>30.400</td>\n",
       "      <td>34.693750</td>\n",
       "      <td>53.13000</td>\n",
       "    </tr>\n",
       "    <tr>\n",
       "      <th>children</th>\n",
       "      <td>1338.0</td>\n",
       "      <td>1.094918</td>\n",
       "      <td>1.205493</td>\n",
       "      <td>0.0000</td>\n",
       "      <td>0.00000</td>\n",
       "      <td>1.000</td>\n",
       "      <td>2.000000</td>\n",
       "      <td>5.00000</td>\n",
       "    </tr>\n",
       "    <tr>\n",
       "      <th>charges</th>\n",
       "      <td>1338.0</td>\n",
       "      <td>13270.422265</td>\n",
       "      <td>12110.011237</td>\n",
       "      <td>1121.8739</td>\n",
       "      <td>4740.28715</td>\n",
       "      <td>9382.033</td>\n",
       "      <td>16639.912515</td>\n",
       "      <td>63770.42801</td>\n",
       "    </tr>\n",
       "  </tbody>\n",
       "</table>\n",
       "</div>"
      ],
      "text/plain": [
       "           count          mean           std        min         25%       50%  \\\n",
       "age       1338.0     39.207025     14.049960    18.0000    27.00000    39.000   \n",
       "bmi       1338.0     30.663397      6.098187    15.9600    26.29625    30.400   \n",
       "children  1338.0      1.094918      1.205493     0.0000     0.00000     1.000   \n",
       "charges   1338.0  13270.422265  12110.011237  1121.8739  4740.28715  9382.033   \n",
       "\n",
       "                   75%          max  \n",
       "age          51.000000     64.00000  \n",
       "bmi          34.693750     53.13000  \n",
       "children      2.000000      5.00000  \n",
       "charges   16639.912515  63770.42801  "
      ]
     },
     "execution_count": 59,
     "metadata": {},
     "output_type": "execute_result"
    }
   ],
   "source": [
    "# describe each column\n",
    "df.describe().T"
   ]
  },
  {
   "cell_type": "markdown",
   "id": "8d0d3fa9",
   "metadata": {},
   "source": [
    "### Exploratory Data Analysis"
   ]
  },
  {
   "cell_type": "code",
   "execution_count": 60,
   "id": "c9edee26",
   "metadata": {
    "scrolled": true
   },
   "outputs": [
    {
     "name": "stdout",
     "output_type": "stream",
     "text": [
      "18    69\n",
      "19    68\n",
      "50    29\n",
      "51    29\n",
      "47    29\n",
      "46    29\n",
      "45    29\n",
      "20    29\n",
      "48    29\n",
      "52    29\n",
      "22    28\n",
      "49    28\n",
      "54    28\n",
      "53    28\n",
      "21    28\n",
      "26    28\n",
      "24    28\n",
      "25    28\n",
      "28    28\n",
      "27    28\n",
      "23    28\n",
      "43    27\n",
      "29    27\n",
      "30    27\n",
      "41    27\n",
      "42    27\n",
      "44    27\n",
      "31    27\n",
      "40    27\n",
      "32    26\n",
      "33    26\n",
      "56    26\n",
      "34    26\n",
      "55    26\n",
      "57    26\n",
      "37    25\n",
      "59    25\n",
      "58    25\n",
      "36    25\n",
      "38    25\n",
      "35    25\n",
      "39    25\n",
      "61    23\n",
      "60    23\n",
      "63    23\n",
      "62    23\n",
      "64    22\n",
      "Name: age, dtype: int64\n",
      "\n",
      "\n",
      "male      676\n",
      "female    662\n",
      "Name: sex, dtype: int64\n",
      "\n",
      "\n",
      "32.300    13\n",
      "28.310     9\n",
      "30.495     8\n",
      "30.875     8\n",
      "31.350     8\n",
      "          ..\n",
      "46.200     1\n",
      "23.800     1\n",
      "44.770     1\n",
      "32.120     1\n",
      "30.970     1\n",
      "Name: bmi, Length: 548, dtype: int64\n",
      "\n",
      "\n",
      "0    574\n",
      "1    324\n",
      "2    240\n",
      "3    157\n",
      "4     25\n",
      "5     18\n",
      "Name: children, dtype: int64\n",
      "\n",
      "\n",
      "no     1064\n",
      "yes     274\n",
      "Name: smoker, dtype: int64\n",
      "\n",
      "\n",
      "southeast    364\n",
      "southwest    325\n",
      "northwest    325\n",
      "northeast    324\n",
      "Name: region, dtype: int64\n",
      "\n",
      "\n",
      "1639.56310     2\n",
      "16884.92400    1\n",
      "29330.98315    1\n",
      "2221.56445     1\n",
      "19798.05455    1\n",
      "              ..\n",
      "7345.08400     1\n",
      "26109.32905    1\n",
      "28287.89766    1\n",
      "1149.39590     1\n",
      "29141.36030    1\n",
      "Name: charges, Length: 1337, dtype: int64\n",
      "\n",
      "\n"
     ]
    }
   ],
   "source": [
    "#check value count for each column\n",
    "for i in df.columns:\n",
    "    print(df[i].value_counts())\n",
    "    print(\"\\n\")"
   ]
  },
  {
   "cell_type": "markdown",
   "id": "c07c4abd",
   "metadata": {},
   "source": [
    "#### Univariate Analysis"
   ]
  },
  {
   "cell_type": "code",
   "execution_count": 61,
   "id": "85fa7c70",
   "metadata": {},
   "outputs": [
    {
     "data": {
      "text/plain": [
       "Index(['age', 'sex', 'bmi', 'children', 'smoker', 'region', 'charges'], dtype='object')"
      ]
     },
     "execution_count": 61,
     "metadata": {},
     "output_type": "execute_result"
    }
   ],
   "source": [
    "df.columns"
   ]
  },
  {
   "cell_type": "code",
   "execution_count": 62,
   "id": "7f34ab2e",
   "metadata": {},
   "outputs": [],
   "source": [
    "# Prepare list of columns names which contain numerical and categorical values\n",
    "numerical_cols=['age','bmi','children','charges']\n",
    "categorical_cols=['sex','smoker','region']"
   ]
  },
  {
   "cell_type": "code",
   "execution_count": 63,
   "id": "86df9c8f",
   "metadata": {
    "scrolled": true
   },
   "outputs": [
    {
     "data": {
      "image/png": "[encoded data removed]",
      "text/plain": [
       "<Figure size 432x288 with 1 Axes>"
      ]
     },
     "metadata": {
      "needs_background": "light"
     },
     "output_type": "display_data"
    },
    {
     "data": {
      "image/png": "[encoded data removed]",
      "text/plain": [
       "<Figure size 432x288 with 1 Axes>"
      ]
     },
     "metadata": {
      "needs_background": "light"
     },
     "output_type": "display_data"
    },
    {
     "data": {
      "image/png": "[encoded data removed]",
      "text/plain": [
       "<Figure size 432x288 with 1 Axes>"
      ]
     },
     "metadata": {
      "needs_background": "light"
     },
     "output_type": "display_data"
    },
    {
     "data": {
      "image/png": "[encoded data removed]",
      "text/plain": [
       "<Figure size 432x288 with 1 Axes>"
      ]
     },
     "metadata": {
      "needs_background": "light"
     },
     "output_type": "display_data"
    }
   ],
   "source": [
    "#Display distribution of all numrical_cols \n",
    "for i in numerical_cols:\n",
    "    sns.distplot(df[i])\n",
    "    plt.show()"
   ]
  },
  {
   "cell_type": "markdown",
   "id": "d19297ef",
   "metadata": {},
   "source": [
    "bmi column has values closer to normal distribution"
   ]
  },
  {
   "cell_type": "code",
   "execution_count": 64,
   "id": "e4751469",
   "metadata": {
    "scrolled": true
   },
   "outputs": [
    {
     "data": {
      "image/png": "[encoded data removed]",
      "text/plain": [
       "<Figure size 432x288 with 1 Axes>"
      ]
     },
     "metadata": {
      "needs_background": "light"
     },
     "output_type": "display_data"
    },
    {
     "data": {
      "image/png": "[encoded data removed]",
      "text/plain": [
       "<Figure size 432x288 with 1 Axes>"
      ]
     },
     "metadata": {
      "needs_background": "light"
     },
     "output_type": "display_data"
    },
    {
     "data": {
      "image/png": "[encoded data removed]",
      "text/plain": [
       "<Figure size 432x288 with 1 Axes>"
      ]
     },
     "metadata": {
      "needs_background": "light"
     },
     "output_type": "display_data"
    }
   ],
   "source": [
    "#Display value_counts of all categorical_cols \n",
    "for i in categorical_cols:\n",
    "    sns.countplot(df[i])\n",
    "    plt.show()"
   ]
  },
  {
   "cell_type": "markdown",
   "id": "98e67e03",
   "metadata": {},
   "source": [
    "The number of smokers is relatively smaller than non-smokers"
   ]
  },
  {
   "cell_type": "markdown",
   "id": "b689b9ab",
   "metadata": {},
   "source": [
    "#### Bivariate Analysis"
   ]
  },
  {
   "cell_type": "code",
   "execution_count": 65,
   "id": "88373569",
   "metadata": {
    "scrolled": true
   },
   "outputs": [
    {
     "data": {
      "image/png": "[encoded data removed]",
      "text/plain": [
       "<Figure size 432x288 with 1 Axes>"
      ]
     },
     "metadata": {
      "needs_background": "light"
     },
     "output_type": "display_data"
    },
    {
     "data": {
      "image/png": "[encoded data removed]",
      "text/plain": [
       "<Figure size 432x288 with 1 Axes>"
      ]
     },
     "metadata": {
      "needs_background": "light"
     },
     "output_type": "display_data"
    },
    {
     "data": {
      "image/png": "[encoded data removed]",
      "text/plain": [
       "<Figure size 432x288 with 1 Axes>"
      ]
     },
     "metadata": {
      "needs_background": "light"
     },
     "output_type": "display_data"
    }
   ],
   "source": [
    "# For all categorical column compare the values ranges of charges(target variable)\n",
    "for i in categorical_cols:\n",
    "    sns.boxplot(x=df['charges'],y=df[i])\n",
    "    plt.show()"
   ]
  },
  {
   "cell_type": "markdown",
   "id": "8432faf9",
   "metadata": {},
   "source": [
    "The value range of column smoker if quite different. smoker column would be a important feature to predict charges."
   ]
  },
  {
   "cell_type": "code",
   "execution_count": 66,
   "id": "7024d703",
   "metadata": {},
   "outputs": [
    {
     "data": {
      "image/png": "[encoded data removed]",
      "text/plain": [
       "<Figure size 432x288 with 1 Axes>"
      ]
     },
     "metadata": {
      "needs_background": "light"
     },
     "output_type": "display_data"
    },
    {
     "data": {
      "image/png": "[encoded data removed]",
      "text/plain": [
       "<Figure size 432x288 with 1 Axes>"
      ]
     },
     "metadata": {
      "needs_background": "light"
     },
     "output_type": "display_data"
    },
    {
     "data": {
      "image/png": "[encoded data removed]",
      "text/plain": [
       "<Figure size 432x288 with 1 Axes>"
      ]
     },
     "metadata": {
      "needs_background": "light"
     },
     "output_type": "display_data"
    }
   ],
   "source": [
    "# for all numerical columns check how the chrges vary\n",
    "for i in numerical_cols[:-1]:\n",
    "    sns.scatterplot(y=df['charges'],x=df[i])\n",
    "    plt.show()"
   ]
  },
  {
   "cell_type": "markdown",
   "id": "aadfc8f2",
   "metadata": {},
   "source": [
    "#### Multivariate Analysis"
   ]
  },
  {
   "cell_type": "code",
   "execution_count": 67,
   "id": "37837a7a",
   "metadata": {},
   "outputs": [
    {
     "data": {
      "text/plain": [
       "<AxesSubplot:>"
      ]
     },
     "execution_count": 67,
     "metadata": {},
     "output_type": "execute_result"
    },
    {
     "data": {
      "image/png": "[encoded data removed]",
      "text/plain": [
       "<Figure size 1080x648 with 2 Axes>"
      ]
     },
     "metadata": {
      "needs_background": "light"
     },
     "output_type": "display_data"
    }
   ],
   "source": [
    "# Plot a heatmap using dataframe correlation values\n",
    "plt.figure(figsize=(15,9))\n",
    "sns.heatmap(df.corr(),annot=True)"
   ]
  },
  {
   "cell_type": "markdown",
   "id": "a9fa8d28",
   "metadata": {},
   "source": [
    "No single numeric column has high correlation with the charges column."
   ]
  },
  {
   "cell_type": "markdown",
   "id": "b10e1ef9",
   "metadata": {},
   "source": [
    "### Feature Engineering"
   ]
  },
  {
   "cell_type": "code",
   "execution_count": 68,
   "id": "9684f597",
   "metadata": {},
   "outputs": [
    {
     "data": {
      "text/plain": [
       "['sex', 'smoker', 'region']"
      ]
     },
     "execution_count": 68,
     "metadata": {},
     "output_type": "execute_result"
    }
   ],
   "source": [
    "#converting categorical features to numerical values\n",
    "categorical_cols"
   ]
  },
  {
   "cell_type": "code",
   "execution_count": 69,
   "id": "1dc920b1",
   "metadata": {},
   "outputs": [],
   "source": [
    "# map \"female\" to 0 and \"male\" to 1\n",
    "df['sex']=df['sex'].map({'female':0,'male':1})"
   ]
  },
  {
   "cell_type": "code",
   "execution_count": 70,
   "id": "d5ce0f40",
   "metadata": {},
   "outputs": [],
   "source": [
    "# map \"yes\" to 1 and \"no\" to 0\n",
    "df['smoker']=df['smoker'].map({'yes':1,'no':0})"
   ]
  },
  {
   "cell_type": "code",
   "execution_count": 71,
   "id": "5546c856",
   "metadata": {},
   "outputs": [
    {
     "data": {
      "text/plain": [
       "1    676\n",
       "0    662\n",
       "Name: sex, dtype: int64"
      ]
     },
     "execution_count": 71,
     "metadata": {},
     "output_type": "execute_result"
    }
   ],
   "source": [
    "df[\"sex\"].value_counts()"
   ]
  },
  {
   "cell_type": "code",
   "execution_count": 72,
   "id": "a8c35f92",
   "metadata": {},
   "outputs": [
    {
     "data": {
      "text/plain": [
       "0    1064\n",
       "1     274\n",
       "Name: smoker, dtype: int64"
      ]
     },
     "execution_count": 72,
     "metadata": {},
     "output_type": "execute_result"
    }
   ],
   "source": [
    "df[\"smoker\"].value_counts()"
   ]
  },
  {
   "cell_type": "code",
   "execution_count": 73,
   "id": "f8899912",
   "metadata": {},
   "outputs": [
    {
     "data": {
      "text/html": [
       "<div>\n",
       "<style scoped>\n",
       "    .dataframe tbody tr th:only-of-type {\n",
       "        vertical-align: middle;\n",
       "    }\n",
       "\n",
       "    .dataframe tbody tr th {\n",
       "        vertical-align: top;\n",
       "    }\n",
       "\n",
       "    .dataframe thead th {\n",
       "        text-align: right;\n",
       "    }\n",
       "</style>\n",
       "<table border=\"1\" class=\"dataframe\">\n",
       "  <thead>\n",
       "    <tr style=\"text-align: right;\">\n",
       "      <th></th>\n",
       "      <th>region_northeast</th>\n",
       "      <th>region_northwest</th>\n",
       "      <th>region_southeast</th>\n",
       "      <th>region_southwest</th>\n",
       "    </tr>\n",
       "  </thead>\n",
       "  <tbody>\n",
       "    <tr>\n",
       "      <th>0</th>\n",
       "      <td>0</td>\n",
       "      <td>0</td>\n",
       "      <td>0</td>\n",
       "      <td>1</td>\n",
       "    </tr>\n",
       "    <tr>\n",
       "      <th>1</th>\n",
       "      <td>0</td>\n",
       "      <td>0</td>\n",
       "      <td>1</td>\n",
       "      <td>0</td>\n",
       "    </tr>\n",
       "    <tr>\n",
       "      <th>2</th>\n",
       "      <td>0</td>\n",
       "      <td>0</td>\n",
       "      <td>1</td>\n",
       "      <td>0</td>\n",
       "    </tr>\n",
       "    <tr>\n",
       "      <th>3</th>\n",
       "      <td>0</td>\n",
       "      <td>1</td>\n",
       "      <td>0</td>\n",
       "      <td>0</td>\n",
       "    </tr>\n",
       "    <tr>\n",
       "      <th>4</th>\n",
       "      <td>0</td>\n",
       "      <td>1</td>\n",
       "      <td>0</td>\n",
       "      <td>0</td>\n",
       "    </tr>\n",
       "    <tr>\n",
       "      <th>...</th>\n",
       "      <td>...</td>\n",
       "      <td>...</td>\n",
       "      <td>...</td>\n",
       "      <td>...</td>\n",
       "    </tr>\n",
       "    <tr>\n",
       "      <th>1333</th>\n",
       "      <td>0</td>\n",
       "      <td>1</td>\n",
       "      <td>0</td>\n",
       "      <td>0</td>\n",
       "    </tr>\n",
       "    <tr>\n",
       "      <th>1334</th>\n",
       "      <td>1</td>\n",
       "      <td>0</td>\n",
       "      <td>0</td>\n",
       "      <td>0</td>\n",
       "    </tr>\n",
       "    <tr>\n",
       "      <th>1335</th>\n",
       "      <td>0</td>\n",
       "      <td>0</td>\n",
       "      <td>1</td>\n",
       "      <td>0</td>\n",
       "    </tr>\n",
       "    <tr>\n",
       "      <th>1336</th>\n",
       "      <td>0</td>\n",
       "      <td>0</td>\n",
       "      <td>0</td>\n",
       "      <td>1</td>\n",
       "    </tr>\n",
       "    <tr>\n",
       "      <th>1337</th>\n",
       "      <td>0</td>\n",
       "      <td>1</td>\n",
       "      <td>0</td>\n",
       "      <td>0</td>\n",
       "    </tr>\n",
       "  </tbody>\n",
       "</table>\n",
       "<p>1338 rows × 4 columns</p>\n",
       "</div>"
      ],
      "text/plain": [
       "      region_northeast  region_northwest  region_southeast  region_southwest\n",
       "0                    0                 0                 0                 1\n",
       "1                    0                 0                 1                 0\n",
       "2                    0                 0                 1                 0\n",
       "3                    0                 1                 0                 0\n",
       "4                    0                 1                 0                 0\n",
       "...                ...               ...               ...               ...\n",
       "1333                 0                 1                 0                 0\n",
       "1334                 1                 0                 0                 0\n",
       "1335                 0                 0                 1                 0\n",
       "1336                 0                 0                 0                 1\n",
       "1337                 0                 1                 0                 0\n",
       "\n",
       "[1338 rows x 4 columns]"
      ]
     },
     "execution_count": 73,
     "metadata": {},
     "output_type": "execute_result"
    }
   ],
   "source": [
    "#one hot encoding of the region column\n",
    "dfRegion=pd.get_dummies(df['region'],prefix=\"region\")\n",
    "dfRegion"
   ]
  },
  {
   "cell_type": "code",
   "execution_count": 74,
   "id": "80fd1b63",
   "metadata": {},
   "outputs": [
    {
     "data": {
      "text/html": [
       "<div>\n",
       "<style scoped>\n",
       "    .dataframe tbody tr th:only-of-type {\n",
       "        vertical-align: middle;\n",
       "    }\n",
       "\n",
       "    .dataframe tbody tr th {\n",
       "        vertical-align: top;\n",
       "    }\n",
       "\n",
       "    .dataframe thead th {\n",
       "        text-align: right;\n",
       "    }\n",
       "</style>\n",
       "<table border=\"1\" class=\"dataframe\">\n",
       "  <thead>\n",
       "    <tr style=\"text-align: right;\">\n",
       "      <th></th>\n",
       "      <th>age</th>\n",
       "      <th>sex</th>\n",
       "      <th>bmi</th>\n",
       "      <th>children</th>\n",
       "      <th>smoker</th>\n",
       "      <th>region</th>\n",
       "      <th>charges</th>\n",
       "      <th>region_northeast</th>\n",
       "      <th>region_northwest</th>\n",
       "      <th>region_southeast</th>\n",
       "      <th>region_southwest</th>\n",
       "    </tr>\n",
       "  </thead>\n",
       "  <tbody>\n",
       "    <tr>\n",
       "      <th>0</th>\n",
       "      <td>19</td>\n",
       "      <td>0</td>\n",
       "      <td>27.900</td>\n",
       "      <td>0</td>\n",
       "      <td>1</td>\n",
       "      <td>southwest</td>\n",
       "      <td>16884.92400</td>\n",
       "      <td>0</td>\n",
       "      <td>0</td>\n",
       "      <td>0</td>\n",
       "      <td>1</td>\n",
       "    </tr>\n",
       "    <tr>\n",
       "      <th>1</th>\n",
       "      <td>18</td>\n",
       "      <td>1</td>\n",
       "      <td>33.770</td>\n",
       "      <td>1</td>\n",
       "      <td>0</td>\n",
       "      <td>southeast</td>\n",
       "      <td>1725.55230</td>\n",
       "      <td>0</td>\n",
       "      <td>0</td>\n",
       "      <td>1</td>\n",
       "      <td>0</td>\n",
       "    </tr>\n",
       "    <tr>\n",
       "      <th>2</th>\n",
       "      <td>28</td>\n",
       "      <td>1</td>\n",
       "      <td>33.000</td>\n",
       "      <td>3</td>\n",
       "      <td>0</td>\n",
       "      <td>southeast</td>\n",
       "      <td>4449.46200</td>\n",
       "      <td>0</td>\n",
       "      <td>0</td>\n",
       "      <td>1</td>\n",
       "      <td>0</td>\n",
       "    </tr>\n",
       "    <tr>\n",
       "      <th>3</th>\n",
       "      <td>33</td>\n",
       "      <td>1</td>\n",
       "      <td>22.705</td>\n",
       "      <td>0</td>\n",
       "      <td>0</td>\n",
       "      <td>northwest</td>\n",
       "      <td>21984.47061</td>\n",
       "      <td>0</td>\n",
       "      <td>1</td>\n",
       "      <td>0</td>\n",
       "      <td>0</td>\n",
       "    </tr>\n",
       "    <tr>\n",
       "      <th>4</th>\n",
       "      <td>32</td>\n",
       "      <td>1</td>\n",
       "      <td>28.880</td>\n",
       "      <td>0</td>\n",
       "      <td>0</td>\n",
       "      <td>northwest</td>\n",
       "      <td>3866.85520</td>\n",
       "      <td>0</td>\n",
       "      <td>1</td>\n",
       "      <td>0</td>\n",
       "      <td>0</td>\n",
       "    </tr>\n",
       "    <tr>\n",
       "      <th>...</th>\n",
       "      <td>...</td>\n",
       "      <td>...</td>\n",
       "      <td>...</td>\n",
       "      <td>...</td>\n",
       "      <td>...</td>\n",
       "      <td>...</td>\n",
       "      <td>...</td>\n",
       "      <td>...</td>\n",
       "      <td>...</td>\n",
       "      <td>...</td>\n",
       "      <td>...</td>\n",
       "    </tr>\n",
       "    <tr>\n",
       "      <th>1333</th>\n",
       "      <td>50</td>\n",
       "      <td>1</td>\n",
       "      <td>30.970</td>\n",
       "      <td>3</td>\n",
       "      <td>0</td>\n",
       "      <td>northwest</td>\n",
       "      <td>10600.54830</td>\n",
       "      <td>0</td>\n",
       "      <td>1</td>\n",
       "      <td>0</td>\n",
       "      <td>0</td>\n",
       "    </tr>\n",
       "    <tr>\n",
       "      <th>1334</th>\n",
       "      <td>18</td>\n",
       "      <td>0</td>\n",
       "      <td>31.920</td>\n",
       "      <td>0</td>\n",
       "      <td>0</td>\n",
       "      <td>northeast</td>\n",
       "      <td>2205.98080</td>\n",
       "      <td>1</td>\n",
       "      <td>0</td>\n",
       "      <td>0</td>\n",
       "      <td>0</td>\n",
       "    </tr>\n",
       "    <tr>\n",
       "      <th>1335</th>\n",
       "      <td>18</td>\n",
       "      <td>0</td>\n",
       "      <td>36.850</td>\n",
       "      <td>0</td>\n",
       "      <td>0</td>\n",
       "      <td>southeast</td>\n",
       "      <td>1629.83350</td>\n",
       "      <td>0</td>\n",
       "      <td>0</td>\n",
       "      <td>1</td>\n",
       "      <td>0</td>\n",
       "    </tr>\n",
       "    <tr>\n",
       "      <th>1336</th>\n",
       "      <td>21</td>\n",
       "      <td>0</td>\n",
       "      <td>25.800</td>\n",
       "      <td>0</td>\n",
       "      <td>0</td>\n",
       "      <td>southwest</td>\n",
       "      <td>2007.94500</td>\n",
       "      <td>0</td>\n",
       "      <td>0</td>\n",
       "      <td>0</td>\n",
       "      <td>1</td>\n",
       "    </tr>\n",
       "    <tr>\n",
       "      <th>1337</th>\n",
       "      <td>61</td>\n",
       "      <td>0</td>\n",
       "      <td>29.070</td>\n",
       "      <td>0</td>\n",
       "      <td>1</td>\n",
       "      <td>northwest</td>\n",
       "      <td>29141.36030</td>\n",
       "      <td>0</td>\n",
       "      <td>1</td>\n",
       "      <td>0</td>\n",
       "      <td>0</td>\n",
       "    </tr>\n",
       "  </tbody>\n",
       "</table>\n",
       "<p>1338 rows × 11 columns</p>\n",
       "</div>"
      ],
      "text/plain": [
       "      age  sex     bmi  children  smoker     region      charges  \\\n",
       "0      19    0  27.900         0       1  southwest  16884.92400   \n",
       "1      18    1  33.770         1       0  southeast   1725.55230   \n",
       "2      28    1  33.000         3       0  southeast   4449.46200   \n",
       "3      33    1  22.705         0       0  northwest  21984.47061   \n",
       "4      32    1  28.880         0       0  northwest   3866.85520   \n",
       "...   ...  ...     ...       ...     ...        ...          ...   \n",
       "1333   50    1  30.970         3       0  northwest  10600.54830   \n",
       "1334   18    0  31.920         0       0  northeast   2205.98080   \n",
       "1335   18    0  36.850         0       0  southeast   1629.83350   \n",
       "1336   21    0  25.800         0       0  southwest   2007.94500   \n",
       "1337   61    0  29.070         0       1  northwest  29141.36030   \n",
       "\n",
       "      region_northeast  region_northwest  region_southeast  region_southwest  \n",
       "0                    0                 0                 0                 1  \n",
       "1                    0                 0                 1                 0  \n",
       "2                    0                 0                 1                 0  \n",
       "3                    0                 1                 0                 0  \n",
       "4                    0                 1                 0                 0  \n",
       "...                ...               ...               ...               ...  \n",
       "1333                 0                 1                 0                 0  \n",
       "1334                 1                 0                 0                 0  \n",
       "1335                 0                 0                 1                 0  \n",
       "1336                 0                 0                 0                 1  \n",
       "1337                 0                 1                 0                 0  \n",
       "\n",
       "[1338 rows x 11 columns]"
      ]
     },
     "execution_count": 74,
     "metadata": {},
     "output_type": "execute_result"
    }
   ],
   "source": [
    "# Concatenate the original dataframe with dataframe created for region values\n",
    "df=pd.concat([df,dfRegion],axis=1)\n",
    "df"
   ]
  },
  {
   "cell_type": "code",
   "execution_count": 75,
   "id": "b2db3528",
   "metadata": {},
   "outputs": [
    {
     "data": {
      "text/plain": [
       "Index(['age', 'sex', 'bmi', 'children', 'smoker', 'region', 'charges',\n",
       "       'region_northeast', 'region_northwest', 'region_southeast',\n",
       "       'region_southwest'],\n",
       "      dtype='object')"
      ]
     },
     "execution_count": 75,
     "metadata": {},
     "output_type": "execute_result"
    }
   ],
   "source": [
    "df.columns"
   ]
  },
  {
   "cell_type": "code",
   "execution_count": 77,
   "id": "2114d32e",
   "metadata": {},
   "outputs": [
    {
     "data": {
      "text/html": [
       "<div>\n",
       "<style scoped>\n",
       "    .dataframe tbody tr th:only-of-type {\n",
       "        vertical-align: middle;\n",
       "    }\n",
       "\n",
       "    .dataframe tbody tr th {\n",
       "        vertical-align: top;\n",
       "    }\n",
       "\n",
       "    .dataframe thead th {\n",
       "        text-align: right;\n",
       "    }\n",
       "</style>\n",
       "<table border=\"1\" class=\"dataframe\">\n",
       "  <thead>\n",
       "    <tr style=\"text-align: right;\">\n",
       "      <th></th>\n",
       "      <th>age</th>\n",
       "      <th>sex</th>\n",
       "      <th>bmi</th>\n",
       "      <th>children</th>\n",
       "      <th>smoker</th>\n",
       "      <th>region_northeast</th>\n",
       "      <th>region_northwest</th>\n",
       "      <th>region_southeast</th>\n",
       "      <th>region_southwest</th>\n",
       "    </tr>\n",
       "  </thead>\n",
       "  <tbody>\n",
       "    <tr>\n",
       "      <th>0</th>\n",
       "      <td>19</td>\n",
       "      <td>0</td>\n",
       "      <td>27.900</td>\n",
       "      <td>0</td>\n",
       "      <td>1</td>\n",
       "      <td>0</td>\n",
       "      <td>0</td>\n",
       "      <td>0</td>\n",
       "      <td>1</td>\n",
       "    </tr>\n",
       "    <tr>\n",
       "      <th>1</th>\n",
       "      <td>18</td>\n",
       "      <td>1</td>\n",
       "      <td>33.770</td>\n",
       "      <td>1</td>\n",
       "      <td>0</td>\n",
       "      <td>0</td>\n",
       "      <td>0</td>\n",
       "      <td>1</td>\n",
       "      <td>0</td>\n",
       "    </tr>\n",
       "    <tr>\n",
       "      <th>2</th>\n",
       "      <td>28</td>\n",
       "      <td>1</td>\n",
       "      <td>33.000</td>\n",
       "      <td>3</td>\n",
       "      <td>0</td>\n",
       "      <td>0</td>\n",
       "      <td>0</td>\n",
       "      <td>1</td>\n",
       "      <td>0</td>\n",
       "    </tr>\n",
       "    <tr>\n",
       "      <th>3</th>\n",
       "      <td>33</td>\n",
       "      <td>1</td>\n",
       "      <td>22.705</td>\n",
       "      <td>0</td>\n",
       "      <td>0</td>\n",
       "      <td>0</td>\n",
       "      <td>1</td>\n",
       "      <td>0</td>\n",
       "      <td>0</td>\n",
       "    </tr>\n",
       "    <tr>\n",
       "      <th>4</th>\n",
       "      <td>32</td>\n",
       "      <td>1</td>\n",
       "      <td>28.880</td>\n",
       "      <td>0</td>\n",
       "      <td>0</td>\n",
       "      <td>0</td>\n",
       "      <td>1</td>\n",
       "      <td>0</td>\n",
       "      <td>0</td>\n",
       "    </tr>\n",
       "    <tr>\n",
       "      <th>...</th>\n",
       "      <td>...</td>\n",
       "      <td>...</td>\n",
       "      <td>...</td>\n",
       "      <td>...</td>\n",
       "      <td>...</td>\n",
       "      <td>...</td>\n",
       "      <td>...</td>\n",
       "      <td>...</td>\n",
       "      <td>...</td>\n",
       "    </tr>\n",
       "    <tr>\n",
       "      <th>1333</th>\n",
       "      <td>50</td>\n",
       "      <td>1</td>\n",
       "      <td>30.970</td>\n",
       "      <td>3</td>\n",
       "      <td>0</td>\n",
       "      <td>0</td>\n",
       "      <td>1</td>\n",
       "      <td>0</td>\n",
       "      <td>0</td>\n",
       "    </tr>\n",
       "    <tr>\n",
       "      <th>1334</th>\n",
       "      <td>18</td>\n",
       "      <td>0</td>\n",
       "      <td>31.920</td>\n",
       "      <td>0</td>\n",
       "      <td>0</td>\n",
       "      <td>1</td>\n",
       "      <td>0</td>\n",
       "      <td>0</td>\n",
       "      <td>0</td>\n",
       "    </tr>\n",
       "    <tr>\n",
       "      <th>1335</th>\n",
       "      <td>18</td>\n",
       "      <td>0</td>\n",
       "      <td>36.850</td>\n",
       "      <td>0</td>\n",
       "      <td>0</td>\n",
       "      <td>0</td>\n",
       "      <td>0</td>\n",
       "      <td>1</td>\n",
       "      <td>0</td>\n",
       "    </tr>\n",
       "    <tr>\n",
       "      <th>1336</th>\n",
       "      <td>21</td>\n",
       "      <td>0</td>\n",
       "      <td>25.800</td>\n",
       "      <td>0</td>\n",
       "      <td>0</td>\n",
       "      <td>0</td>\n",
       "      <td>0</td>\n",
       "      <td>0</td>\n",
       "      <td>1</td>\n",
       "    </tr>\n",
       "    <tr>\n",
       "      <th>1337</th>\n",
       "      <td>61</td>\n",
       "      <td>0</td>\n",
       "      <td>29.070</td>\n",
       "      <td>0</td>\n",
       "      <td>1</td>\n",
       "      <td>0</td>\n",
       "      <td>1</td>\n",
       "      <td>0</td>\n",
       "      <td>0</td>\n",
       "    </tr>\n",
       "  </tbody>\n",
       "</table>\n",
       "<p>1338 rows × 9 columns</p>\n",
       "</div>"
      ],
      "text/plain": [
       "      age  sex     bmi  children  smoker  region_northeast  region_northwest  \\\n",
       "0      19    0  27.900         0       1                 0                 0   \n",
       "1      18    1  33.770         1       0                 0                 0   \n",
       "2      28    1  33.000         3       0                 0                 0   \n",
       "3      33    1  22.705         0       0                 0                 1   \n",
       "4      32    1  28.880         0       0                 0                 1   \n",
       "...   ...  ...     ...       ...     ...               ...               ...   \n",
       "1333   50    1  30.970         3       0                 0                 1   \n",
       "1334   18    0  31.920         0       0                 1                 0   \n",
       "1335   18    0  36.850         0       0                 0                 0   \n",
       "1336   21    0  25.800         0       0                 0                 0   \n",
       "1337   61    0  29.070         0       1                 0                 1   \n",
       "\n",
       "      region_southeast  region_southwest  \n",
       "0                    0                 1  \n",
       "1                    1                 0  \n",
       "2                    1                 0  \n",
       "3                    0                 0  \n",
       "4                    0                 0  \n",
       "...                ...               ...  \n",
       "1333                 0                 0  \n",
       "1334                 0                 0  \n",
       "1335                 1                 0  \n",
       "1336                 0                 1  \n",
       "1337                 0                 0  \n",
       "\n",
       "[1338 rows x 9 columns]"
      ]
     },
     "execution_count": 77,
     "metadata": {},
     "output_type": "execute_result"
    }
   ],
   "source": [
    "# Create X with all independent variable\n",
    "X=df[['age','sex','bmi','children','smoker','region_northeast','region_northwest','region_southeast','region_southwest']]\n",
    "X"
   ]
  },
  {
   "cell_type": "code",
   "execution_count": 78,
   "id": "170e9e43",
   "metadata": {},
   "outputs": [
    {
     "data": {
      "text/plain": [
       "0       16884.92400\n",
       "1        1725.55230\n",
       "2        4449.46200\n",
       "3       21984.47061\n",
       "4        3866.85520\n",
       "           ...     \n",
       "1333    10600.54830\n",
       "1334     2205.98080\n",
       "1335     1629.83350\n",
       "1336     2007.94500\n",
       "1337    29141.36030\n",
       "Name: charges, Length: 1338, dtype: float64"
      ]
     },
     "execution_count": 78,
     "metadata": {},
     "output_type": "execute_result"
    }
   ],
   "source": [
    "# Create y with only target variable(charges)\n",
    "y=df[\"charges\"]\n",
    "y"
   ]
  },
  {
   "cell_type": "code",
   "execution_count": 79,
   "id": "d073d600",
   "metadata": {},
   "outputs": [],
   "source": [
    "#Feature scaling\n",
    "ss=StandardScaler()"
   ]
  },
  {
   "cell_type": "code",
   "execution_count": 84,
   "id": "6989c501",
   "metadata": {},
   "outputs": [
    {
     "data": {
      "text/html": [
       "<div>\n",
       "<style scoped>\n",
       "    .dataframe tbody tr th:only-of-type {\n",
       "        vertical-align: middle;\n",
       "    }\n",
       "\n",
       "    .dataframe tbody tr th {\n",
       "        vertical-align: top;\n",
       "    }\n",
       "\n",
       "    .dataframe thead th {\n",
       "        text-align: right;\n",
       "    }\n",
       "</style>\n",
       "<table border=\"1\" class=\"dataframe\">\n",
       "  <thead>\n",
       "    <tr style=\"text-align: right;\">\n",
       "      <th></th>\n",
       "      <th>age</th>\n",
       "      <th>sex</th>\n",
       "      <th>bmi</th>\n",
       "      <th>children</th>\n",
       "      <th>smoker</th>\n",
       "      <th>region_northeast</th>\n",
       "      <th>region_northwest</th>\n",
       "      <th>region_southeast</th>\n",
       "      <th>region_southwest</th>\n",
       "    </tr>\n",
       "  </thead>\n",
       "  <tbody>\n",
       "    <tr>\n",
       "      <th>0</th>\n",
       "      <td>-1.438764</td>\n",
       "      <td>0</td>\n",
       "      <td>-0.453320</td>\n",
       "      <td>-0.908614</td>\n",
       "      <td>1</td>\n",
       "      <td>0</td>\n",
       "      <td>0</td>\n",
       "      <td>0</td>\n",
       "      <td>1</td>\n",
       "    </tr>\n",
       "    <tr>\n",
       "      <th>1</th>\n",
       "      <td>-1.509965</td>\n",
       "      <td>1</td>\n",
       "      <td>0.509621</td>\n",
       "      <td>-0.078767</td>\n",
       "      <td>0</td>\n",
       "      <td>0</td>\n",
       "      <td>0</td>\n",
       "      <td>1</td>\n",
       "      <td>0</td>\n",
       "    </tr>\n",
       "    <tr>\n",
       "      <th>2</th>\n",
       "      <td>-0.797954</td>\n",
       "      <td>1</td>\n",
       "      <td>0.383307</td>\n",
       "      <td>1.580926</td>\n",
       "      <td>0</td>\n",
       "      <td>0</td>\n",
       "      <td>0</td>\n",
       "      <td>1</td>\n",
       "      <td>0</td>\n",
       "    </tr>\n",
       "    <tr>\n",
       "      <th>3</th>\n",
       "      <td>-0.441948</td>\n",
       "      <td>1</td>\n",
       "      <td>-1.305531</td>\n",
       "      <td>-0.908614</td>\n",
       "      <td>0</td>\n",
       "      <td>0</td>\n",
       "      <td>1</td>\n",
       "      <td>0</td>\n",
       "      <td>0</td>\n",
       "    </tr>\n",
       "    <tr>\n",
       "      <th>4</th>\n",
       "      <td>-0.513149</td>\n",
       "      <td>1</td>\n",
       "      <td>-0.292556</td>\n",
       "      <td>-0.908614</td>\n",
       "      <td>0</td>\n",
       "      <td>0</td>\n",
       "      <td>1</td>\n",
       "      <td>0</td>\n",
       "      <td>0</td>\n",
       "    </tr>\n",
       "    <tr>\n",
       "      <th>...</th>\n",
       "      <td>...</td>\n",
       "      <td>...</td>\n",
       "      <td>...</td>\n",
       "      <td>...</td>\n",
       "      <td>...</td>\n",
       "      <td>...</td>\n",
       "      <td>...</td>\n",
       "      <td>...</td>\n",
       "      <td>...</td>\n",
       "    </tr>\n",
       "    <tr>\n",
       "      <th>1333</th>\n",
       "      <td>0.768473</td>\n",
       "      <td>1</td>\n",
       "      <td>0.050297</td>\n",
       "      <td>1.580926</td>\n",
       "      <td>0</td>\n",
       "      <td>0</td>\n",
       "      <td>1</td>\n",
       "      <td>0</td>\n",
       "      <td>0</td>\n",
       "    </tr>\n",
       "    <tr>\n",
       "      <th>1334</th>\n",
       "      <td>-1.509965</td>\n",
       "      <td>0</td>\n",
       "      <td>0.206139</td>\n",
       "      <td>-0.908614</td>\n",
       "      <td>0</td>\n",
       "      <td>1</td>\n",
       "      <td>0</td>\n",
       "      <td>0</td>\n",
       "      <td>0</td>\n",
       "    </tr>\n",
       "    <tr>\n",
       "      <th>1335</th>\n",
       "      <td>-1.509965</td>\n",
       "      <td>0</td>\n",
       "      <td>1.014878</td>\n",
       "      <td>-0.908614</td>\n",
       "      <td>0</td>\n",
       "      <td>0</td>\n",
       "      <td>0</td>\n",
       "      <td>1</td>\n",
       "      <td>0</td>\n",
       "    </tr>\n",
       "    <tr>\n",
       "      <th>1336</th>\n",
       "      <td>-1.296362</td>\n",
       "      <td>0</td>\n",
       "      <td>-0.797813</td>\n",
       "      <td>-0.908614</td>\n",
       "      <td>0</td>\n",
       "      <td>0</td>\n",
       "      <td>0</td>\n",
       "      <td>0</td>\n",
       "      <td>1</td>\n",
       "    </tr>\n",
       "    <tr>\n",
       "      <th>1337</th>\n",
       "      <td>1.551686</td>\n",
       "      <td>0</td>\n",
       "      <td>-0.261388</td>\n",
       "      <td>-0.908614</td>\n",
       "      <td>1</td>\n",
       "      <td>0</td>\n",
       "      <td>1</td>\n",
       "      <td>0</td>\n",
       "      <td>0</td>\n",
       "    </tr>\n",
       "  </tbody>\n",
       "</table>\n",
       "<p>1338 rows × 9 columns</p>\n",
       "</div>"
      ],
      "text/plain": [
       "           age  sex       bmi  children  smoker  region_northeast  \\\n",
       "0    -1.438764    0 -0.453320 -0.908614       1                 0   \n",
       "1    -1.509965    1  0.509621 -0.078767       0                 0   \n",
       "2    -0.797954    1  0.383307  1.580926       0                 0   \n",
       "3    -0.441948    1 -1.305531 -0.908614       0                 0   \n",
       "4    -0.513149    1 -0.292556 -0.908614       0                 0   \n",
       "...        ...  ...       ...       ...     ...               ...   \n",
       "1333  0.768473    1  0.050297  1.580926       0                 0   \n",
       "1334 -1.509965    0  0.206139 -0.908614       0                 1   \n",
       "1335 -1.509965    0  1.014878 -0.908614       0                 0   \n",
       "1336 -1.296362    0 -0.797813 -0.908614       0                 0   \n",
       "1337  1.551686    0 -0.261388 -0.908614       1                 0   \n",
       "\n",
       "      region_northwest  region_southeast  region_southwest  \n",
       "0                    0                 0                 1  \n",
       "1                    0                 1                 0  \n",
       "2                    0                 1                 0  \n",
       "3                    1                 0                 0  \n",
       "4                    1                 0                 0  \n",
       "...                ...               ...               ...  \n",
       "1333                 1                 0                 0  \n",
       "1334                 0                 0                 0  \n",
       "1335                 0                 1                 0  \n",
       "1336                 0                 0                 1  \n",
       "1337                 1                 0                 0  \n",
       "\n",
       "[1338 rows x 9 columns]"
      ]
     },
     "execution_count": 84,
     "metadata": {},
     "output_type": "execute_result"
    }
   ],
   "source": [
    "# Apply standard scaler on only relevant columns\n",
    "X[['age','bmi','children']]=ss.fit_transform(X[['age','bmi','children']])\n",
    "X"
   ]
  },
  {
   "cell_type": "code",
   "execution_count": 85,
   "id": "fd46be5b",
   "metadata": {},
   "outputs": [
    {
     "data": {
      "text/html": [
       "<div>\n",
       "<style scoped>\n",
       "    .dataframe tbody tr th:only-of-type {\n",
       "        vertical-align: middle;\n",
       "    }\n",
       "\n",
       "    .dataframe tbody tr th {\n",
       "        vertical-align: top;\n",
       "    }\n",
       "\n",
       "    .dataframe thead th {\n",
       "        text-align: right;\n",
       "    }\n",
       "</style>\n",
       "<table border=\"1\" class=\"dataframe\">\n",
       "  <thead>\n",
       "    <tr style=\"text-align: right;\">\n",
       "      <th></th>\n",
       "      <th>value</th>\n",
       "      <th>feature</th>\n",
       "    </tr>\n",
       "  </thead>\n",
       "  <tbody>\n",
       "    <tr>\n",
       "      <th>7</th>\n",
       "      <td>1.425105</td>\n",
       "      <td>region_southeast</td>\n",
       "    </tr>\n",
       "    <tr>\n",
       "      <th>5</th>\n",
       "      <td>1.314644</td>\n",
       "      <td>region_northeast</td>\n",
       "    </tr>\n",
       "    <tr>\n",
       "      <th>6</th>\n",
       "      <td>1.292976</td>\n",
       "      <td>region_northwest</td>\n",
       "    </tr>\n",
       "    <tr>\n",
       "      <th>8</th>\n",
       "      <td>1.278919</td>\n",
       "      <td>region_southwest</td>\n",
       "    </tr>\n",
       "    <tr>\n",
       "      <th>2</th>\n",
       "      <td>1.106630</td>\n",
       "      <td>bmi</td>\n",
       "    </tr>\n",
       "    <tr>\n",
       "      <th>0</th>\n",
       "      <td>1.016822</td>\n",
       "      <td>age</td>\n",
       "    </tr>\n",
       "    <tr>\n",
       "      <th>4</th>\n",
       "      <td>1.012074</td>\n",
       "      <td>smoker</td>\n",
       "    </tr>\n",
       "    <tr>\n",
       "      <th>1</th>\n",
       "      <td>1.008900</td>\n",
       "      <td>sex</td>\n",
       "    </tr>\n",
       "    <tr>\n",
       "      <th>3</th>\n",
       "      <td>1.004011</td>\n",
       "      <td>children</td>\n",
       "    </tr>\n",
       "  </tbody>\n",
       "</table>\n",
       "</div>"
      ],
      "text/plain": [
       "      value           feature\n",
       "7  1.425105  region_southeast\n",
       "5  1.314644  region_northeast\n",
       "6  1.292976  region_northwest\n",
       "8  1.278919  region_southwest\n",
       "2  1.106630               bmi\n",
       "0  1.016822               age\n",
       "4  1.012074            smoker\n",
       "1  1.008900               sex\n",
       "3  1.004011          children"
      ]
     },
     "execution_count": 85,
     "metadata": {},
     "output_type": "execute_result"
    }
   ],
   "source": [
    "#check VIF to reduce multicolliniarity\n",
    "vif=pd.DataFrame()\n",
    "vif[\"value\"]=[variance_inflation_factor(X.values,i) for i in range(len(X.columns))]\n",
    "vif['feature']=X.columns\n",
    "vif.sort_values(by='value',ascending=False)"
   ]
  },
  {
   "cell_type": "markdown",
   "id": "02f710f2",
   "metadata": {},
   "source": [
    "As the VIF values are not very high there is no multicollinearity."
   ]
  },
  {
   "cell_type": "markdown",
   "id": "f03913a1",
   "metadata": {},
   "source": [
    "### Model Building"
   ]
  },
  {
   "cell_type": "code",
   "execution_count": 86,
   "id": "dc6b7b4c",
   "metadata": {},
   "outputs": [],
   "source": [
    "#Split the data into train and test\n",
    "X_train, X_test, y_train, y_test = train_test_split(X, y, test_size=0.25, random_state=80)"
   ]
  },
  {
   "cell_type": "code",
   "execution_count": 87,
   "id": "756dfc93",
   "metadata": {},
   "outputs": [
    {
     "data": {
      "text/html": [
       "<div>\n",
       "<style scoped>\n",
       "    .dataframe tbody tr th:only-of-type {\n",
       "        vertical-align: middle;\n",
       "    }\n",
       "\n",
       "    .dataframe tbody tr th {\n",
       "        vertical-align: top;\n",
       "    }\n",
       "\n",
       "    .dataframe thead th {\n",
       "        text-align: right;\n",
       "    }\n",
       "</style>\n",
       "<table border=\"1\" class=\"dataframe\">\n",
       "  <thead>\n",
       "    <tr style=\"text-align: right;\">\n",
       "      <th></th>\n",
       "      <th>age</th>\n",
       "      <th>sex</th>\n",
       "      <th>bmi</th>\n",
       "      <th>children</th>\n",
       "      <th>smoker</th>\n",
       "      <th>region_northeast</th>\n",
       "      <th>region_northwest</th>\n",
       "      <th>region_southeast</th>\n",
       "      <th>region_southwest</th>\n",
       "    </tr>\n",
       "  </thead>\n",
       "  <tbody>\n",
       "    <tr>\n",
       "      <th>161</th>\n",
       "      <td>-1.509965</td>\n",
       "      <td>0</td>\n",
       "      <td>1.014878</td>\n",
       "      <td>-0.908614</td>\n",
       "      <td>1</td>\n",
       "      <td>0</td>\n",
       "      <td>0</td>\n",
       "      <td>1</td>\n",
       "      <td>0</td>\n",
       "    </tr>\n",
       "    <tr>\n",
       "      <th>618</th>\n",
       "      <td>-1.438764</td>\n",
       "      <td>0</td>\n",
       "      <td>0.401352</td>\n",
       "      <td>-0.908614</td>\n",
       "      <td>1</td>\n",
       "      <td>0</td>\n",
       "      <td>0</td>\n",
       "      <td>1</td>\n",
       "      <td>0</td>\n",
       "    </tr>\n",
       "    <tr>\n",
       "      <th>1312</th>\n",
       "      <td>-0.370746</td>\n",
       "      <td>1</td>\n",
       "      <td>2.007347</td>\n",
       "      <td>-0.078767</td>\n",
       "      <td>0</td>\n",
       "      <td>0</td>\n",
       "      <td>0</td>\n",
       "      <td>0</td>\n",
       "      <td>1</td>\n",
       "    </tr>\n",
       "    <tr>\n",
       "      <th>1328</th>\n",
       "      <td>-1.153959</td>\n",
       "      <td>0</td>\n",
       "      <td>-1.056183</td>\n",
       "      <td>0.751079</td>\n",
       "      <td>0</td>\n",
       "      <td>1</td>\n",
       "      <td>0</td>\n",
       "      <td>0</td>\n",
       "      <td>0</td>\n",
       "    </tr>\n",
       "    <tr>\n",
       "      <th>326</th>\n",
       "      <td>-0.869155</td>\n",
       "      <td>0</td>\n",
       "      <td>-1.222689</td>\n",
       "      <td>-0.078767</td>\n",
       "      <td>0</td>\n",
       "      <td>0</td>\n",
       "      <td>0</td>\n",
       "      <td>1</td>\n",
       "      <td>0</td>\n",
       "    </tr>\n",
       "    <tr>\n",
       "      <th>...</th>\n",
       "      <td>...</td>\n",
       "      <td>...</td>\n",
       "      <td>...</td>\n",
       "      <td>...</td>\n",
       "      <td>...</td>\n",
       "      <td>...</td>\n",
       "      <td>...</td>\n",
       "      <td>...</td>\n",
       "      <td>...</td>\n",
       "    </tr>\n",
       "    <tr>\n",
       "      <th>522</th>\n",
       "      <td>0.839674</td>\n",
       "      <td>0</td>\n",
       "      <td>0.533408</td>\n",
       "      <td>-0.908614</td>\n",
       "      <td>0</td>\n",
       "      <td>1</td>\n",
       "      <td>0</td>\n",
       "      <td>0</td>\n",
       "      <td>0</td>\n",
       "    </tr>\n",
       "    <tr>\n",
       "      <th>211</th>\n",
       "      <td>0.056461</td>\n",
       "      <td>1</td>\n",
       "      <td>0.034712</td>\n",
       "      <td>2.410772</td>\n",
       "      <td>0</td>\n",
       "      <td>0</td>\n",
       "      <td>1</td>\n",
       "      <td>0</td>\n",
       "      <td>0</td>\n",
       "    </tr>\n",
       "    <tr>\n",
       "      <th>934</th>\n",
       "      <td>-0.513149</td>\n",
       "      <td>1</td>\n",
       "      <td>1.069013</td>\n",
       "      <td>0.751079</td>\n",
       "      <td>0</td>\n",
       "      <td>0</td>\n",
       "      <td>0</td>\n",
       "      <td>1</td>\n",
       "      <td>0</td>\n",
       "    </tr>\n",
       "    <tr>\n",
       "      <th>1212</th>\n",
       "      <td>-1.509965</td>\n",
       "      <td>1</td>\n",
       "      <td>-1.508126</td>\n",
       "      <td>-0.908614</td>\n",
       "      <td>0</td>\n",
       "      <td>1</td>\n",
       "      <td>0</td>\n",
       "      <td>0</td>\n",
       "      <td>0</td>\n",
       "    </tr>\n",
       "    <tr>\n",
       "      <th>1199</th>\n",
       "      <td>-0.584350</td>\n",
       "      <td>0</td>\n",
       "      <td>-0.797813</td>\n",
       "      <td>0.751079</td>\n",
       "      <td>0</td>\n",
       "      <td>0</td>\n",
       "      <td>0</td>\n",
       "      <td>0</td>\n",
       "      <td>1</td>\n",
       "    </tr>\n",
       "  </tbody>\n",
       "</table>\n",
       "<p>1003 rows × 9 columns</p>\n",
       "</div>"
      ],
      "text/plain": [
       "           age  sex       bmi  children  smoker  region_northeast  \\\n",
       "161  -1.509965    0  1.014878 -0.908614       1                 0   \n",
       "618  -1.438764    0  0.401352 -0.908614       1                 0   \n",
       "1312 -0.370746    1  2.007347 -0.078767       0                 0   \n",
       "1328 -1.153959    0 -1.056183  0.751079       0                 1   \n",
       "326  -0.869155    0 -1.222689 -0.078767       0                 0   \n",
       "...        ...  ...       ...       ...     ...               ...   \n",
       "522   0.839674    0  0.533408 -0.908614       0                 1   \n",
       "211   0.056461    1  0.034712  2.410772       0                 0   \n",
       "934  -0.513149    1  1.069013  0.751079       0                 0   \n",
       "1212 -1.509965    1 -1.508126 -0.908614       0                 1   \n",
       "1199 -0.584350    0 -0.797813  0.751079       0                 0   \n",
       "\n",
       "      region_northwest  region_southeast  region_southwest  \n",
       "161                  0                 1                 0  \n",
       "618                  0                 1                 0  \n",
       "1312                 0                 0                 1  \n",
       "1328                 0                 0                 0  \n",
       "326                  0                 1                 0  \n",
       "...                ...               ...               ...  \n",
       "522                  0                 0                 0  \n",
       "211                  1                 0                 0  \n",
       "934                  0                 1                 0  \n",
       "1212                 0                 0                 0  \n",
       "1199                 0                 0                 1  \n",
       "\n",
       "[1003 rows x 9 columns]"
      ]
     },
     "execution_count": 87,
     "metadata": {},
     "output_type": "execute_result"
    }
   ],
   "source": [
    "X_train"
   ]
  },
  {
   "cell_type": "code",
   "execution_count": 88,
   "id": "62ea938f",
   "metadata": {},
   "outputs": [
    {
     "data": {
      "text/html": [
       "<div>\n",
       "<style scoped>\n",
       "    .dataframe tbody tr th:only-of-type {\n",
       "        vertical-align: middle;\n",
       "    }\n",
       "\n",
       "    .dataframe tbody tr th {\n",
       "        vertical-align: top;\n",
       "    }\n",
       "\n",
       "    .dataframe thead th {\n",
       "        text-align: right;\n",
       "    }\n",
       "</style>\n",
       "<table border=\"1\" class=\"dataframe\">\n",
       "  <thead>\n",
       "    <tr style=\"text-align: right;\">\n",
       "      <th></th>\n",
       "      <th>age</th>\n",
       "      <th>sex</th>\n",
       "      <th>bmi</th>\n",
       "      <th>children</th>\n",
       "      <th>smoker</th>\n",
       "      <th>region_northeast</th>\n",
       "      <th>region_northwest</th>\n",
       "      <th>region_southeast</th>\n",
       "      <th>region_southwest</th>\n",
       "    </tr>\n",
       "  </thead>\n",
       "  <tbody>\n",
       "    <tr>\n",
       "      <th>240</th>\n",
       "      <td>-1.153959</td>\n",
       "      <td>0</td>\n",
       "      <td>0.985350</td>\n",
       "      <td>0.751079</td>\n",
       "      <td>1</td>\n",
       "      <td>1</td>\n",
       "      <td>0</td>\n",
       "      <td>0</td>\n",
       "      <td>0</td>\n",
       "    </tr>\n",
       "    <tr>\n",
       "      <th>651</th>\n",
       "      <td>0.982076</td>\n",
       "      <td>0</td>\n",
       "      <td>1.466000</td>\n",
       "      <td>-0.078767</td>\n",
       "      <td>0</td>\n",
       "      <td>0</td>\n",
       "      <td>0</td>\n",
       "      <td>1</td>\n",
       "      <td>0</td>\n",
       "    </tr>\n",
       "    <tr>\n",
       "      <th>761</th>\n",
       "      <td>-1.153959</td>\n",
       "      <td>1</td>\n",
       "      <td>0.744205</td>\n",
       "      <td>-0.078767</td>\n",
       "      <td>0</td>\n",
       "      <td>0</td>\n",
       "      <td>0</td>\n",
       "      <td>0</td>\n",
       "      <td>1</td>\n",
       "    </tr>\n",
       "    <tr>\n",
       "      <th>836</th>\n",
       "      <td>-0.228344</td>\n",
       "      <td>1</td>\n",
       "      <td>0.137240</td>\n",
       "      <td>-0.908614</td>\n",
       "      <td>0</td>\n",
       "      <td>0</td>\n",
       "      <td>0</td>\n",
       "      <td>0</td>\n",
       "      <td>1</td>\n",
       "    </tr>\n",
       "    <tr>\n",
       "      <th>1147</th>\n",
       "      <td>-1.367563</td>\n",
       "      <td>0</td>\n",
       "      <td>0.206139</td>\n",
       "      <td>-0.908614</td>\n",
       "      <td>0</td>\n",
       "      <td>0</td>\n",
       "      <td>1</td>\n",
       "      <td>0</td>\n",
       "      <td>0</td>\n",
       "    </tr>\n",
       "    <tr>\n",
       "      <th>...</th>\n",
       "      <td>...</td>\n",
       "      <td>...</td>\n",
       "      <td>...</td>\n",
       "      <td>...</td>\n",
       "      <td>...</td>\n",
       "      <td>...</td>\n",
       "      <td>...</td>\n",
       "      <td>...</td>\n",
       "      <td>...</td>\n",
       "    </tr>\n",
       "    <tr>\n",
       "      <th>757</th>\n",
       "      <td>0.554869</td>\n",
       "      <td>0</td>\n",
       "      <td>-0.464803</td>\n",
       "      <td>-0.908614</td>\n",
       "      <td>1</td>\n",
       "      <td>0</td>\n",
       "      <td>0</td>\n",
       "      <td>1</td>\n",
       "      <td>0</td>\n",
       "    </tr>\n",
       "    <tr>\n",
       "      <th>608</th>\n",
       "      <td>-0.797954</td>\n",
       "      <td>1</td>\n",
       "      <td>-0.604241</td>\n",
       "      <td>0.751079</td>\n",
       "      <td>0</td>\n",
       "      <td>1</td>\n",
       "      <td>0</td>\n",
       "      <td>0</td>\n",
       "      <td>0</td>\n",
       "    </tr>\n",
       "    <tr>\n",
       "      <th>1268</th>\n",
       "      <td>-1.367563</td>\n",
       "      <td>0</td>\n",
       "      <td>0.432520</td>\n",
       "      <td>-0.908614</td>\n",
       "      <td>0</td>\n",
       "      <td>0</td>\n",
       "      <td>0</td>\n",
       "      <td>0</td>\n",
       "      <td>1</td>\n",
       "    </tr>\n",
       "    <tr>\n",
       "      <th>889</th>\n",
       "      <td>1.266881</td>\n",
       "      <td>1</td>\n",
       "      <td>0.486655</td>\n",
       "      <td>-0.078767</td>\n",
       "      <td>0</td>\n",
       "      <td>0</td>\n",
       "      <td>1</td>\n",
       "      <td>0</td>\n",
       "      <td>0</td>\n",
       "    </tr>\n",
       "    <tr>\n",
       "      <th>677</th>\n",
       "      <td>1.480485</td>\n",
       "      <td>1</td>\n",
       "      <td>0.112633</td>\n",
       "      <td>1.580926</td>\n",
       "      <td>1</td>\n",
       "      <td>0</td>\n",
       "      <td>1</td>\n",
       "      <td>0</td>\n",
       "      <td>0</td>\n",
       "    </tr>\n",
       "  </tbody>\n",
       "</table>\n",
       "<p>335 rows × 9 columns</p>\n",
       "</div>"
      ],
      "text/plain": [
       "           age  sex       bmi  children  smoker  region_northeast  \\\n",
       "240  -1.153959    0  0.985350  0.751079       1                 1   \n",
       "651   0.982076    0  1.466000 -0.078767       0                 0   \n",
       "761  -1.153959    1  0.744205 -0.078767       0                 0   \n",
       "836  -0.228344    1  0.137240 -0.908614       0                 0   \n",
       "1147 -1.367563    0  0.206139 -0.908614       0                 0   \n",
       "...        ...  ...       ...       ...     ...               ...   \n",
       "757   0.554869    0 -0.464803 -0.908614       1                 0   \n",
       "608  -0.797954    1 -0.604241  0.751079       0                 1   \n",
       "1268 -1.367563    0  0.432520 -0.908614       0                 0   \n",
       "889   1.266881    1  0.486655 -0.078767       0                 0   \n",
       "677   1.480485    1  0.112633  1.580926       1                 0   \n",
       "\n",
       "      region_northwest  region_southeast  region_southwest  \n",
       "240                  0                 0                 0  \n",
       "651                  0                 1                 0  \n",
       "761                  0                 0                 1  \n",
       "836                  0                 0                 1  \n",
       "1147                 1                 0                 0  \n",
       "...                ...               ...               ...  \n",
       "757                  0                 1                 0  \n",
       "608                  0                 0                 0  \n",
       "1268                 0                 0                 1  \n",
       "889                  1                 0                 0  \n",
       "677                  1                 0                 0  \n",
       "\n",
       "[335 rows x 9 columns]"
      ]
     },
     "execution_count": 88,
     "metadata": {},
     "output_type": "execute_result"
    }
   ],
   "source": [
    "X_test"
   ]
  },
  {
   "cell_type": "code",
   "execution_count": 89,
   "id": "f87ed4e8",
   "metadata": {},
   "outputs": [
    {
     "data": {
      "text/plain": [
       "161     36149.48350\n",
       "618     34439.85590\n",
       "1312     4536.25900\n",
       "1328    22395.74424\n",
       "326      3561.88890\n",
       "           ...     \n",
       "522      9866.30485\n",
       "211      8162.71625\n",
       "934      4673.39220\n",
       "1212     1702.45530\n",
       "1199     4934.70500\n",
       "Name: charges, Length: 1003, dtype: float64"
      ]
     },
     "execution_count": 89,
     "metadata": {},
     "output_type": "execute_result"
    }
   ],
   "source": [
    "y_train"
   ]
  },
  {
   "cell_type": "code",
   "execution_count": 90,
   "id": "26b65c59",
   "metadata": {},
   "outputs": [
    {
     "data": {
      "text/plain": [
       "240     38511.6283\n",
       "651     10579.7110\n",
       "761      2416.9550\n",
       "836      4402.2330\n",
       "1147     2261.5688\n",
       "           ...    \n",
       "757     23065.4207\n",
       "608      4435.0942\n",
       "1268     1880.4870\n",
       "889     11945.1327\n",
       "677     46130.5265\n",
       "Name: charges, Length: 335, dtype: float64"
      ]
     },
     "execution_count": 90,
     "metadata": {},
     "output_type": "execute_result"
    }
   ],
   "source": [
    "y_test"
   ]
  },
  {
   "cell_type": "markdown",
   "id": "a1cf0aa3",
   "metadata": {},
   "source": [
    "#### Linear Regression"
   ]
  },
  {
   "cell_type": "code",
   "execution_count": 91,
   "id": "35f6d76f",
   "metadata": {},
   "outputs": [
    {
     "data": {
      "text/plain": [
       "LinearRegression()"
      ]
     },
     "execution_count": 91,
     "metadata": {},
     "output_type": "execute_result"
    }
   ],
   "source": [
    "# Fit the Linear Regression model\n",
    "lr=LinearRegression()\n",
    "lr.fit(X_train,y_train)"
   ]
  },
  {
   "cell_type": "code",
   "execution_count": 92,
   "id": "73ef9bf4",
   "metadata": {},
   "outputs": [
    {
     "data": {
      "text/plain": [
       "array([ 3.18755529e+04,  1.48430007e+04,  4.56505746e+03,  6.09148131e+03,\n",
       "        3.97900992e+03,  2.68408680e+03,  9.44837768e+03,  3.20615563e+04,\n",
       "        1.11830356e+04,  1.26503868e+04,  7.95961606e+03,  1.84474123e+04,\n",
       "        1.09794981e+04,  3.45307564e+04,  1.23158718e+04,  1.07178328e+04,\n",
       "        1.65194052e+03,  2.70040958e+04,  1.16077372e+04,  6.29887392e+03,\n",
       "        6.46009099e+03,  3.16823826e+04,  3.21415190e+04,  1.38019888e+04,\n",
       "        1.12564980e+04,  1.51874243e+04,  2.66815252e+04,  3.69525353e+03,\n",
       "        1.19400349e+04,  1.11473394e+04,  5.05543733e+03,  2.19506575e+03,\n",
       "        1.08570055e+04,  3.30975946e+03,  9.10601305e+03,  7.99999146e+03,\n",
       "        3.19585523e+02,  3.28033538e+04,  4.21633491e+03,  2.81020397e+03,\n",
       "        2.46194653e+04,  3.56159082e+04,  2.01152003e+03,  3.96577355e+04,\n",
       "        1.14261595e+04,  9.94502927e+03,  1.04705049e+04,  8.49790671e+03,\n",
       "        1.32512887e+04,  2.84932601e+04,  1.67705220e+04,  1.16386255e+04,\n",
       "        6.02868156e+03,  3.72962200e+04,  3.23484185e+04,  6.16801929e+03,\n",
       "        5.19110180e+03,  4.51779348e+03,  1.53294421e+04,  2.65873438e+04,\n",
       "        3.62484377e+04,  4.37630199e+03,  1.46428176e+04, -5.60031761e+02,\n",
       "        3.83396920e+04,  1.62392134e+04,  1.64447767e+04,  3.52357339e+04,\n",
       "        3.43114153e+03,  7.10246110e+03,  6.18164617e+03,  1.70407471e+04,\n",
       "        1.25799432e+04,  7.36848638e+03,  2.96189057e+04,  4.02895515e+03,\n",
       "        1.34144822e+04,  3.78780195e+03,  8.32016998e+03,  5.55534233e+03,\n",
       "        3.02729903e+04,  7.59051210e+03,  1.48851221e+04,  9.15073815e+03,\n",
       "        1.63564100e+04,  2.91239137e+04, -2.09583271e+02,  5.51265234e+03,\n",
       "        1.21788635e+04,  6.97741673e+02,  5.31295391e+02,  1.14153642e+04,\n",
       "        9.23801519e+03,  3.24424430e+04, -2.37106204e+03,  9.24158884e+03,\n",
       "        7.86895710e+03,  2.92210972e+04,  3.71182797e+03,  5.98361306e+03,\n",
       "        4.74268436e+03,  3.46685375e+04,  5.76118420e+03,  2.81970011e+04,\n",
       "        3.52839129e+04,  1.04654775e+04,  7.51452023e+03,  4.70306863e+03,\n",
       "        1.23929887e+04,  1.46804430e+04,  1.15433650e+04,  3.62476551e+03,\n",
       "        7.20004635e+03,  1.16062927e+04,  3.33769443e+04,  6.59113863e+03,\n",
       "        8.75404883e+03,  3.67665809e+01,  8.31682086e+03,  5.29822877e+03,\n",
       "        4.46131139e+03,  9.67507046e+03, -2.10610310e+03,  3.13911526e+04,\n",
       "        3.88123925e+04,  3.03899587e+04,  1.07803812e+04,  1.03616209e+04,\n",
       "        1.73712122e+04,  1.06484372e+04,  2.75309031e+04,  8.58926884e+03,\n",
       "        1.54586416e+04,  5.16379659e+03,  5.62537495e+03,  1.01612225e+04,\n",
       "        3.36945800e+03,  1.33490661e+04,  5.95390541e+03,  3.03990517e+04,\n",
       "        5.86882910e+03,  1.40238096e+04,  8.29882489e+03,  5.73274874e+03,\n",
       "        2.27622804e+03,  5.77953244e+03,  2.90101408e+04,  7.67231060e+03,\n",
       "        1.69444794e+04,  6.19809616e+03,  3.56823125e+04,  6.01513646e+03,\n",
       "        1.43265999e+04,  1.09415941e+04,  6.80308717e+03,  2.67761271e+04,\n",
       "        7.63633664e+03,  7.95034395e+03,  1.35520760e+04,  6.87946471e+03,\n",
       "        9.49258580e+03,  3.46132996e+04,  1.60698081e+04,  1.60332210e+03,\n",
       "        9.59797915e+03,  6.41161453e+03,  9.90624608e+03,  3.32119677e+04,\n",
       "        1.25104331e+04,  1.21298055e+04,  2.82685481e+04,  1.59659970e+04,\n",
       "        1.18129720e+04,  2.82515238e+03,  3.23373105e+04,  3.84787632e+04,\n",
       "        6.25483527e+03,  3.26093692e+04,  1.29084117e+04,  3.11562666e+04,\n",
       "        6.00893893e+03,  7.91000511e+03,  9.59152360e+03,  3.63885199e+04,\n",
       "        7.65131287e+03,  6.94825227e+03,  1.00154180e+04,  5.92277621e+03,\n",
       "        1.10971622e+04,  6.85708565e+03,  2.29756628e+04,  3.43238575e+03,\n",
       "        1.20721626e+04,  1.53730235e+04,  1.72505865e+04,  3.37761072e+03,\n",
       "        1.34905292e+04,  3.85885956e+03,  1.58372006e+04,  3.87944633e+04,\n",
       "        1.19471939e+04,  2.74518417e+04,  2.64956652e+04,  5.24249656e+03,\n",
       "        2.49412343e+03,  2.38580885e+04,  1.21078706e+04,  1.25512286e+04,\n",
       "        1.10791514e+04,  1.04531171e+04,  1.23958029e+04,  1.88831801e+03,\n",
       "        3.03256545e+04,  1.08962778e+04,  1.27462472e+04,  1.13249842e+04,\n",
       "        1.78817125e+03,  1.40219433e+04,  1.03080436e+04,  2.71097331e+04,\n",
       "        1.30282840e+04,  8.42332667e+03,  1.48948160e+04,  1.46021445e+04,\n",
       "        7.62570411e+03,  3.55116537e+04,  8.12568714e+03,  9.20954898e+03,\n",
       "        2.20540910e+03,  1.03746223e+04,  1.47975921e+03,  3.65027516e+04,\n",
       "        1.58490397e+04,  5.90400251e+03,  3.40011632e+04,  9.53979464e+03,\n",
       "        8.46954367e+03,  3.23188330e+03,  6.15105123e+03,  8.91701452e+03,\n",
       "        9.26003372e+03,  8.58682100e+03,  3.79084878e+03,  1.02382724e+04,\n",
       "        3.33079230e+04,  3.11448609e+03,  1.12277288e+04,  1.77911031e+03,\n",
       "        1.17685294e+04,  1.54291071e+04,  3.65601905e+04,  9.46790560e+03,\n",
       "        2.13012944e+03,  8.97049584e+03,  1.05372662e+04,  4.18892800e+03,\n",
       "        1.15973154e+03,  1.01382215e+04,  2.87327717e+04,  3.42664795e+04,\n",
       "        1.49555900e+04,  1.20743803e+04,  3.09193415e+04,  3.45398223e+04,\n",
       "        2.57531900e+04,  5.33421245e+03,  1.29462568e+04,  1.59561250e+04,\n",
       "        6.78298219e+03,  5.52394758e+03,  1.15687939e+04, -1.88645496e+03,\n",
       "        1.32412575e+04,  1.24074137e+04,  8.72107225e+01,  9.48348666e+03,\n",
       "        5.61254083e+02,  1.59307966e+04,  9.60961731e+03,  1.58904306e+04,\n",
       "        1.06740328e+04,  1.64054167e+04,  8.40000020e+03,  7.78903425e+03,\n",
       "        4.89541480e+03,  1.26234428e+04,  2.35288812e+03,  1.05029662e+04,\n",
       "        2.85732640e+04,  7.39197152e+03,  1.32726338e+04,  2.98985530e+04,\n",
       "        8.18023847e+03,  6.41363876e+02,  1.08103906e+04,  7.91792329e+03,\n",
       "        6.27360888e+03,  1.16302034e+04,  5.80803690e+03,  2.90970479e+03,\n",
       "        1.55782803e+04,  3.66032229e+04,  1.24298646e+04,  3.23069401e+04,\n",
       "        1.37214814e+04,  3.64078573e+04,  3.58661141e+04,  6.40026900e+03,\n",
       "        4.77236277e+03,  1.63512175e+04,  4.85759751e+03,  2.64086347e+04,\n",
       "        6.02149031e+03,  1.42997154e+04,  8.79461653e+03,  4.08982008e+03,\n",
       "        8.47527046e+03,  5.09245489e+03,  8.08869656e+03,  8.93748461e+03,\n",
       "        3.56465218e+04,  1.22932965e+04,  1.16882361e+04,  7.61869587e+03,\n",
       "        5.39686565e+03,  7.80705161e+02,  9.68032158e+03,  8.44436917e+03,\n",
       "        2.85668458e+04,  8.43445100e+03,  3.29810124e+04,  5.52324252e+03,\n",
       "        3.01360637e+03,  1.40045554e+04,  3.90823322e+04])"
      ]
     },
     "execution_count": 92,
     "metadata": {},
     "output_type": "execute_result"
    }
   ],
   "source": [
    "# Predict on test data\n",
    "y_test_pred=lr.predict(X_test)\n",
    "y_test_pred"
   ]
  },
  {
   "cell_type": "code",
   "execution_count": 93,
   "id": "84a337cb",
   "metadata": {},
   "outputs": [
    {
     "data": {
      "text/plain": [
       "36830524.35218556"
      ]
     },
     "execution_count": 93,
     "metadata": {},
     "output_type": "execute_result"
    }
   ],
   "source": [
    "# Display the mean squared error on test data\n",
    "mean_squared_error(y_test,y_test_pred)"
   ]
  },
  {
   "cell_type": "code",
   "execution_count": 94,
   "id": "e9e041a1",
   "metadata": {},
   "outputs": [
    {
     "data": {
      "text/plain": [
       "0.7395400480823424"
      ]
     },
     "execution_count": 94,
     "metadata": {},
     "output_type": "execute_result"
    }
   ],
   "source": [
    "# Display the R2 score on test data\n",
    "r2_score(y_test,y_test_pred)"
   ]
  },
  {
   "cell_type": "code",
   "execution_count": 95,
   "id": "7e798db2",
   "metadata": {},
   "outputs": [
    {
     "data": {
      "text/plain": [
       "<AxesSubplot:xlabel='charges'>"
      ]
     },
     "execution_count": 95,
     "metadata": {},
     "output_type": "execute_result"
    },
    {
     "data": {
      "image/png": "[encoded data removed]",
      "text/plain": [
       "<Figure size 432x288 with 1 Axes>"
      ]
     },
     "metadata": {
      "needs_background": "light"
     },
     "output_type": "display_data"
    }
   ],
   "source": [
    "# Plot actual value vs predicted value to visually see how good the predictions are\n",
    "sns.scatterplot(x=y_test,y=y_test_pred)"
   ]
  },
  {
   "cell_type": "markdown",
   "id": "a83604d5",
   "metadata": {},
   "source": [
    "R2 score using linear regression model is 0.74. The visual representation doesn't show the predicted value that close to the actual values."
   ]
  },
  {
   "cell_type": "markdown",
   "id": "5659fa7e",
   "metadata": {},
   "source": [
    "#### Random Forest"
   ]
  },
  {
   "cell_type": "code",
   "execution_count": 96,
   "id": "da204473",
   "metadata": {},
   "outputs": [
    {
     "data": {
      "text/plain": [
       "RandomForestRegressor()"
      ]
     },
     "execution_count": 96,
     "metadata": {},
     "output_type": "execute_result"
    }
   ],
   "source": [
    "# Fit the Random Forest Regressor model\n",
    "rf=RandomForestRegressor()\n",
    "rf.fit(X_train,y_train)"
   ]
  },
  {
   "cell_type": "code",
   "execution_count": 97,
   "id": "2effc49f",
   "metadata": {},
   "outputs": [
    {
     "data": {
      "text/plain": [
       "array([38177.8545892 , 12491.2766242 ,  4779.7291303 ,  4772.8830412 ,\n",
       "        2173.411153  ,  1778.0815865 , 12255.2279096 , 37970.2284558 ,\n",
       "       13680.574477  , 11108.9199622 ,  6862.5824964 , 16125.639276  ,\n",
       "        9300.3163568 , 40601.8707368 ,  9905.2965685 ,  8993.8518653 ,\n",
       "        2889.1685192 , 35431.3511561 ,  9683.943604  , 15100.6160396 ,\n",
       "       13544.5886459 , 27855.9145803 , 28591.7859859 ,  8572.4648081 ,\n",
       "       17029.2053428 , 10175.3340474 , 20149.9320475 ,  2465.5057839 ,\n",
       "       13391.9204201 ,  8843.0012847 ,  4414.3991864 ,  2843.9195579 ,\n",
       "        8018.5302817 ,  5483.6033051 , 15296.3668264 , 10843.315454  ,\n",
       "        2487.7764662 , 29176.1230552 ,  4364.9814292 ,  2838.6223685 ,\n",
       "       16997.839193  , 44319.5596846 ,  5198.3779274 , 46177.205034  ,\n",
       "        9986.7687431 ,  7013.1822003 , 11503.3224593 , 12812.0385197 ,\n",
       "       11555.3728176 , 29123.5226719 , 16683.5207926 ,  9741.2920849 ,\n",
       "        5212.6443196 , 44960.5270994 , 23880.0745623 ,  9414.6115709 ,\n",
       "        4912.7457042 ,  4940.8479928 , 17768.2103353 , 17697.0309141 ,\n",
       "       43332.9771493 ,  5404.23881148, 12584.8471926 ,  2543.394868  ,\n",
       "       45296.7417573 ,  9823.8283286 , 13912.7475125 , 25714.3609071 ,\n",
       "        3802.72901192,  5160.712123  ,  5301.0816175 , 14401.2968439 ,\n",
       "       10809.9754644 ,  5339.6495385 , 35974.5495866 ,  4711.27143669,\n",
       "       20564.1751664 ,  2897.9246421 ,  6516.6175725 , 11611.9750534 ,\n",
       "       38586.9398982 ,  6997.5761697 , 12986.7565228 , 11849.4532583 ,\n",
       "       13346.1998308 , 36014.2469287 ,  2765.3037298 ,  9210.7682307 ,\n",
       "        9889.4600048 ,  1713.516937  ,  1283.796421  ,  7940.9909523 ,\n",
       "        9160.008164  , 22356.3735935 ,  2141.2594129 ,  7680.0232075 ,\n",
       "        7449.835959  , 35387.1924563 ,  3003.309295  , 14682.625481  ,\n",
       "        6329.5023329 , 24912.7223386 ,  2912.66722494, 34527.2762256 ,\n",
       "       45416.8938523 , 10652.9508108 , 12646.5623825 ,  6853.3805917 ,\n",
       "       10842.1300843 , 12493.1876361 , 10523.4729408 ,  1989.0011823 ,\n",
       "        3390.2587804 , 10557.9535232 , 41417.0269033 ,  9461.7964502 ,\n",
       "       11264.6276973 ,  2877.8628749 ,  9801.4498968 ,  3333.0609072 ,\n",
       "        3547.6709397 ,  6586.6014745 ,  5196.7360483 , 21709.0117321 ,\n",
       "       47148.030546  , 19366.9029387 , 11486.6552855 , 10657.6730296 ,\n",
       "       10510.8768881 , 15575.6105064 , 35379.7161222 , 13966.8873581 ,\n",
       "        9596.670388  ,  2581.3478765 ,  4824.0696153 , 11115.2736825 ,\n",
       "       16228.03675628, 16483.777921  , 12446.8153796 , 40547.8423461 ,\n",
       "        7077.872325  , 12440.9256215 ,  7353.5560845 ,  5785.6377225 ,\n",
       "        3720.4237464 ,  5330.5286757 , 18636.9318244 ,  6885.5256081 ,\n",
       "       11075.0797462 ,  6001.1969945 , 41877.042116  ,  1735.685245  ,\n",
       "       12696.5977348 , 12097.8709329 ,  8228.3288078 , 20295.5086277 ,\n",
       "        7033.8582674 ,  7783.507811  , 14244.1332204 ,  8017.1842075 ,\n",
       "        7984.8501849 , 40209.2665123 , 13808.9873868 ,  3317.73253688,\n",
       "        6577.2860086 ,  7016.3447236 , 10285.3542595 , 41810.0579889 ,\n",
       "       18307.4599459 , 14645.5500956 , 17662.9538069 , 17481.0239274 ,\n",
       "       16855.5299565 ,  5808.6416978 , 23832.4768677 , 46885.5302455 ,\n",
       "        5427.4812088 , 23107.2474482 ,  9899.5985337 , 39502.0629637 ,\n",
       "        5197.9800587 ,  3601.256528  ,  7628.9403464 , 45388.7862517 ,\n",
       "        6460.0139665 ,  4094.6847036 ,  3944.9038615 , 12422.5812637 ,\n",
       "       16666.1583645 ,  5715.92933   , 17628.7408747 , 11637.20572109,\n",
       "        9401.710093  , 15304.8426684 , 15534.4762316 ,  2285.1142635 ,\n",
       "       15330.6460524 ,  3568.8258383 , 18735.5698653 , 47371.9195479 ,\n",
       "       11820.697675  , 16503.9389379 , 20337.1720917 , 12509.7434693 ,\n",
       "       10146.2059263 , 18548.327147  , 11975.1868142 , 14588.0827241 ,\n",
       "        7934.1931755 ,  8714.6215032 , 10797.8744691 ,  8613.5607018 ,\n",
       "       26293.8435686 , 10229.8222684 , 11708.4225643 ,  9265.5356947 ,\n",
       "        2437.51065421, 14611.318299  ,  6917.2383579 , 18105.8215932 ,\n",
       "       12888.3491734 ,  6918.1928892 , 12651.8193486 , 12536.1660809 ,\n",
       "        6979.533716  , 26097.9288145 ,  6108.5425457 , 12400.4558428 ,\n",
       "        9621.3458835 , 11663.4164385 ,  2786.99150009, 44456.1579801 ,\n",
       "       11702.8791939 ,  4110.9883035 , 23600.6424635 ,  8999.7082222 ,\n",
       "        3833.7224545 ,  1973.750169  , 12089.0646681 , 11846.7474853 ,\n",
       "       10102.2860432 ,  8392.302671  ,  2449.6786298 , 11261.947447  ,\n",
       "       39332.21779   ,  5349.2090433 ,  9321.3743035 ,  7615.5817647 ,\n",
       "       11694.0852127 , 17324.0899503 , 43241.8465493 ,  7620.2042751 ,\n",
       "        2811.2329571 ,  6187.8790443 ,  5964.23845177,  8303.9912025 ,\n",
       "        3865.8614045 , 11489.9465257 , 18658.3618218 , 40864.9516069 ,\n",
       "       13375.1403501 ,  8272.2504192 , 39282.3794063 , 43545.6058989 ,\n",
       "       16548.128135  ,  6003.2479646 , 11828.3603545 , 16488.3347702 ,\n",
       "       10135.7931574 ,  4561.2055994 ,  9808.2244931 ,  1258.862612  ,\n",
       "       12163.7415143 , 11617.4393715 ,  6177.138598  ,  7283.5350373 ,\n",
       "        4358.5489457 , 15026.2058707 , 14735.9978571 , 14360.3296949 ,\n",
       "       13255.0343957 , 16618.2160858 ,  7083.8337479 ,  5554.8841566 ,\n",
       "        6291.0580382 , 15827.3703686 ,  1290.561856  , 10786.7129593 ,\n",
       "       19508.9613255 ,  5135.575061  , 11449.9186898 , 38647.8943763 ,\n",
       "       10816.3611171 ,  4726.9041275 , 16204.9117763 ,  7285.3342292 ,\n",
       "        3049.4584895 , 13841.1574535 ,  4933.0495996 ,  3341.5122016 ,\n",
       "       15386.084846  , 45761.478768  ,  9745.7968721 , 25838.5068456 ,\n",
       "       10369.9559879 , 43011.1973855 , 41886.5364352 ,  7052.7262339 ,\n",
       "        7044.7933397 , 11727.9729032 ,  4794.38313229, 33949.0741365 ,\n",
       "        5919.5657484 , 14623.5060622 ,  6236.8981765 ,  7371.5455279 ,\n",
       "        8163.6205395 ,  5897.2879142 ,  6391.854446  , 10096.2183396 ,\n",
       "       26647.419092  , 11847.8202025 ,  8939.5757479 ,  6130.3263278 ,\n",
       "        3036.17718794,  2122.789396  ,  1464.57691847, 11641.7850822 ,\n",
       "       18479.7595232 ,  7040.1806013 , 25603.2595657 ,  6859.7590782 ,\n",
       "        2936.6010121 , 11934.2124255 , 47501.7134229 ])"
      ]
     },
     "execution_count": 97,
     "metadata": {},
     "output_type": "execute_result"
    }
   ],
   "source": [
    "# Predict on test data\n",
    "y_test_pred=rf.predict(X_test)\n",
    "y_test_pred"
   ]
  },
  {
   "cell_type": "code",
   "execution_count": 98,
   "id": "0dbb9ebb",
   "metadata": {},
   "outputs": [
    {
     "data": {
      "text/plain": [
       "23365787.879717555"
      ]
     },
     "execution_count": 98,
     "metadata": {},
     "output_type": "execute_result"
    }
   ],
   "source": [
    "# Display the mean squared error on test data\n",
    "mean_squared_error(y_test,y_test_pred)"
   ]
  },
  {
   "cell_type": "code",
   "execution_count": 99,
   "id": "e8d19cfc",
   "metadata": {},
   "outputs": [
    {
     "data": {
      "text/plain": [
       "0.8347606477313625"
      ]
     },
     "execution_count": 99,
     "metadata": {},
     "output_type": "execute_result"
    }
   ],
   "source": [
    "# Display the R2 score on test data\n",
    "r2_score(y_test,y_test_pred)"
   ]
  },
  {
   "cell_type": "code",
   "execution_count": 100,
   "id": "7da50f93",
   "metadata": {},
   "outputs": [
    {
     "data": {
      "text/plain": [
       "<AxesSubplot:xlabel='charges'>"
      ]
     },
     "execution_count": 100,
     "metadata": {},
     "output_type": "execute_result"
    },
    {
     "data": {
      "image/png": "[encoded data removed]",
      "text/plain": [
       "<Figure size 432x288 with 1 Axes>"
      ]
     },
     "metadata": {
      "needs_background": "light"
     },
     "output_type": "display_data"
    }
   ],
   "source": [
    "sns.scatterplot(x=y_test,y=y_test_pred)"
   ]
  },
  {
   "cell_type": "markdown",
   "id": "1ea50216",
   "metadata": {},
   "source": [
    "R2 score using linear regression model is 0.83. The visual representation show the predicted value are closer to the actual values in lot of datapoints.\n",
    "The Random Forest model is better than Linear Regression model."
   ]
  },
  {
   "cell_type": "code",
   "execution_count": null,
   "id": "01ad1099",
   "metadata": {},
   "outputs": [],
   "source": []
  },
  {
   "cell_type": "code",
   "execution_count": null,
   "id": "cd2b6db4",
   "metadata": {},
   "outputs": [],
   "source": []
  },
  {
   "cell_type": "code",
   "execution_count": null,
   "id": "cba31e7c",
   "metadata": {},
   "outputs": [],
   "source": []
  }
 ],
 "metadata": {
  "kernelspec": {
   "display_name": "Python 3 (ipykernel)",
   "language": "python",
   "name": "python3"
  },
  "language_info": {
   "codemirror_mode": {
    "name": "ipython",
    "version": 3
   },
   "file_extension": ".py",
   "mimetype": "text/x-python",
   "name": "python",
   "nbconvert_exporter": "python",
   "pygments_lexer": "ipython3",
   "version": "3.9.7"
  }
 },
 "nbformat": 4,
 "nbformat_minor": 5
}
